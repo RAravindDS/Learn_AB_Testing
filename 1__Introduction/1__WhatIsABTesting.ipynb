{
 "cells": [
  {
   "cell_type": "markdown",
   "metadata": {},
   "source": [
    "# What is AB Testing? \n",
    "\n",
    "Essentially a AB testing is a tool that helps you to make decision based on the **data** or make **reliable decisions** based on the data. This is often called **Mulitvariate** or **Hypothesis** testing and also called as **Experimentation**. \n",
    "\n",
    "This is the tool that allows companies with digital products but actually not only digital products to understand whether the improvement that they're trying to implement in their producat actually an improvment. \n",
    "\n",
    "\n",
    "Let's say you have a product; 10k peopare are using that. Now you want to introduce some new feature to the product instead of launching a new feature to everyone you will do a sample from your population and you can show the new feature to the sample, then based on how those users interact with this feature, whether they like it or not, whether they are more engaged or not; depending on what is the success metric for this experiment, you can see how the rest of the population will react to this feature (this is the expermient approximation, it will give how rest of the users will react to your new feature). You can evaluvate this experiment, if the experiment result is positive you can rollout the new feature to all the users. This approach to decision making is **A/B Testing**. \n",
    "\n",
    "<p style=\"text-align:center;\"><img src=\"images/ab_testing.png\" width=\"500px\"></p>\n",
    "\n",
    "## 1 Key Characteristics of the A/B Testing\n",
    "\n",
    "A/B Testing is a **Decision Making support** & **research** methodoly. It allows you to measure an impact of a change in a product. It is a controlled experiment where you can determine how a changing experience affects dependents metrics.  \n",
    "\n",
    "### 1.1 Answers to the Questions: \n",
    "   1. Which metrics or user behavior chagne and how much do they change. \n",
    "   2. Is the change reliabe? \n",
    "\n",
    "### 1.2 Does not answer to the questions\n",
    "  1. Why did the change occur? \n",
    "  2. Do the users like the change? \n",
    "\n",
    "\n",
    "It will be used in multiple domains however it used extensively in **digital products**, **Hypothesis testing in medicine**. \n",
    "\n",
    "<p style=\"text-align:center;\"><img src=\"images/key_characteristics.png\" width=\"500px\"></p>\n",
    "\n"
   ]
  },
  {
   "cell_type": "markdown",
   "metadata": {},
   "source": []
  }
 ],
 "metadata": {
  "language_info": {
   "name": "python"
  }
 },
 "nbformat": 4,
 "nbformat_minor": 2
}
