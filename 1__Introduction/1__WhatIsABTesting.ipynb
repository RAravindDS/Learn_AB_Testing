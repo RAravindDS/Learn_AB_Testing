{
 "cells": [
  {
   "cell_type": "markdown",
   "metadata": {},
   "source": [
    "# What is AB Testing? \n",
    "\n",
    "Essentially a AB testing is a tool that helps you to make decision based on the **data** or make **reliable decisions** based on the data. This is often called **Mulitvariate** or **Hypothesis** testing and also called as **Experimentation**. This is the tool that allows companies with digital products but actually not only digital products to understand whether the improvement that they're trying to implement in their producat actually an improvment. \n",
    "\n",
    "A/B Testing is a **Decision Making support** & **research** methodoly. It allows you to measure an impact of a change in a product.\n",
    "\n",
    "\n",
    "Let's say you have a product; 10k peopare are using that. Now you want to introduce some new feature to the product instead of launching a new feature to everyone you will do a sample from your population and you can show the new feature to the sample, then based on how those users interact with this feature, whether they like it or not, whether they are more engaged or not; depending on what is the success metric for this experiment, you can see how the rest of the population will react to this feature (this is the expermient approximation, it will give how rest of the users will react to your new feature). You can evaluvate this experiment, if the experiment result is positive you can rollout the new feature to all the users. This approach to decision making is **A/B Testing**. \n",
    "\n",
    "<p style=\"text-align:center;\"><img src=\"images/ab_testing.png\" width=\"500px\"></p>\n"
   ]
  },
  {
   "cell_type": "markdown",
   "metadata": {},
   "source": []
  }
 ],
 "metadata": {
  "language_info": {
   "name": "python"
  }
 },
 "nbformat": 4,
 "nbformat_minor": 2
}
