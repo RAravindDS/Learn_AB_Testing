{
 "cells": [
  {
   "cell_type": "markdown",
   "metadata": {},
   "source": [
    "In this notebook we are going to calculate the **sample size** that we need for the test to have a **statistical significance** and also we'll see **how long do we need to run the test for?** based on the metrics. \n",
    "\n",
    "Again this is our usecase hypothesis: \n",
    "\n",
    "<p style=\"text-align:center;\"><img src=\"images/our_hypothesis.png\" width=\"500px\"></p>\n",
    "\n",
    "\n",
    "After finding the sample size, we need to define \n",
    "1. When we will start the A/B test? \n",
    "2. How long will it run for? \n",
    "3. How many users will be exposesd? \n",
    "\n",
    "Thare are many reasons to finding those things, like your company already running a lot of **a/b test** or your new sample is already exposed to some other feature. So decide based on what you have. \n",
    "\n",
    "### Deciding the group sizes and duration\n",
    "\n",
    "This is the very crucial part because based on selecting the group size, you will roll out the new feature to all others. So the selected group size will replicate the whold group. So To decide the **test duration** and **group size**, we need to know: \n",
    "\n",
    "    * Minimum detectable effect (MDE)\n",
    "    * Power -  beta - type 2 error rate \n",
    "    * Significance level - p-value - type 1 error rate \n",
    "\n",
    "Before looking at this, please understand what is **test group** and **control group**\n",
    "\n",
    "**Test Group**: This group is exposed to the new or modified version of the thing being tested. This could be a new design for a website page, a different headline for an ad, or a variation in the wording of a call to action button.\n",
    "\n",
    "**Control Group**: This group serves as a baseline for comparison. They are exposed to the original version of the thing being tested. The control group helps to isolate the effect of the change being tested in the test group. By comparing the results of the two groups, you can see if the new version had a positive, negative, or neutral impact.\n",
    "\n",
    "\n",
    "\n",
    "#### 1. MDE (Minimum Detectable Effect)\n",
    "* MDE is a mix of data analysis, statistics, and business acumen. \n",
    "* Knowing total users, mean and variance of our success and guardrail metric and what our business needs we can defind the MDE. \n",
    "* There is often a tradeoff between precision and practicallity, So we may want to have the smallest possible MDE, but with the restriction of oru use base. \n",
    "* we want the **MDE** to be bigger than the **Standard deviation** of the metric.\n",
    "\n",
    "\n",
    "For our usecase; std of **DAU** is 90. so set 91 minimum difference between test and control group. This equals to approximately 0.33% increase. We need to find 0.33% difference between contorl and test group. \n",
    "\n",
    "Similarly, std of **CTR** is 1.7. So set 1.8% difference betwen test and contorl group. This equals to approximatley 5.5% increase. \n",
    "\n",
    "\n",
    "<p style=\"text-align:center;\"><img src=\"images/our_mde.png\" width=\"500px\"></p>\n"
   ]
  },
  {
   "cell_type": "code",
   "execution_count": null,
   "metadata": {},
   "outputs": [],
   "source": []
  }
 ],
 "metadata": {
  "language_info": {
   "name": "python"
  }
 },
 "nbformat": 4,
 "nbformat_minor": 2
}
