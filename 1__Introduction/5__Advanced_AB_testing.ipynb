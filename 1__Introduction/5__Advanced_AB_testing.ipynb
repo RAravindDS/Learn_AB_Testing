{
 "cells": [
  {
   "cell_type": "markdown",
   "metadata": {},
   "source": [
    "Most of the advanced AB testing starts with this questions: \n",
    "\n",
    "    1. What If we have more users (10x, 100x, etc)? \n",
    "    2. what If we have very less user? \n",
    "    3. What If we have more than one case to analyze (2, 5, 10 cases)? \n",
    "    4. What If we have multiple A/B tests running at the same time? \n",
    "    5. How would we determine whether a situation is resolvable or not? \n",
    "\n",
    "All this questions are very important to undersand (basically for the interviews). \n"
   ]
  },
  {
   "cell_type": "code",
   "execution_count": null,
   "metadata": {},
   "outputs": [],
   "source": []
  }
 ],
 "metadata": {
  "language_info": {
   "name": "python"
  }
 },
 "nbformat": 4,
 "nbformat_minor": 2
}
