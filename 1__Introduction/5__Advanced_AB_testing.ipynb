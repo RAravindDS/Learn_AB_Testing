{
 "cells": [
  {
   "cell_type": "markdown",
   "metadata": {},
   "source": [
    "Most of the advanced AB testing starts with this questions: \n",
    "\n",
    "    1. What If we have more users (10x, 100x, etc)? \n",
    "    2. what If we have very less user? \n",
    "    3. What If we have more than one case to analyze (2, 5, 10 cases)? \n",
    "    4. What If we have multiple A/B tests running at the same time? \n",
    "    5. How would we determine whether a situation is resolvable or not? \n",
    "\n",
    "All this questions are very important to undersand (basically for the interviews). \n",
    "\n",
    "Whenver you're doing the A/B Testing you should follow the proper ethics. This depends upon which country you live. Some of the example ethics are: \n",
    "\n",
    "    1. Avoid harm \n",
    "    2. Be honest and trustworthy \n",
    "    3. Be fair and take action not to discriminate.\n",
    "    4. moree......\n",
    "\n",
    "whenever you're doing the online A/B testing you come to the certian principles. \n",
    "\n",
    "    1. Principle of risk ( What kind of risk the participant is undertaking? )\n",
    "    2. Principle of Benefits of A/B testing\n",
    "    3. Principle of Privacy ( you need to give privacy to the user)\n",
    "\n"
   ]
  },
  {
   "cell_type": "code",
   "execution_count": null,
   "metadata": {},
   "outputs": [],
   "source": []
  }
 ],
 "metadata": {
  "language_info": {
   "name": "python"
  }
 },
 "nbformat": 4,
 "nbformat_minor": 2
}
