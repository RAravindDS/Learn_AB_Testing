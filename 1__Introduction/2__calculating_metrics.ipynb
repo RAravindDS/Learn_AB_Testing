{
 "cells": [
  {
   "cell_type": "markdown",
   "metadata": {},
   "source": [
    "### Understand the usecase \n",
    "\n",
    "Let's see how to calculate metrics from raw datasets :)"
   ]
  },
  {
   "cell_type": "code",
   "execution_count": 2,
   "metadata": {},
   "outputs": [
    {
     "name": "stdout",
     "output_type": "stream",
     "text": [
      "Collecting altair\n",
      "  Downloading altair-5.2.0-py3-none-any.whl.metadata (8.7 kB)\n",
      "Requirement already satisfied: jinja2 in /home/codespace/.local/lib/python3.10/site-packages (from altair) (3.1.3)\n",
      "Requirement already satisfied: jsonschema>=3.0 in /home/codespace/.local/lib/python3.10/site-packages (from altair) (4.21.1)\n",
      "Requirement already satisfied: numpy in /home/codespace/.local/lib/python3.10/site-packages (from altair) (1.26.4)\n",
      "Requirement already satisfied: packaging in /home/codespace/.local/lib/python3.10/site-packages (from altair) (23.2)\n",
      "Requirement already satisfied: pandas>=0.25 in /home/codespace/.local/lib/python3.10/site-packages (from altair) (2.2.1)\n",
      "Collecting toolz (from altair)\n",
      "  Downloading toolz-0.12.1-py3-none-any.whl.metadata (5.1 kB)\n",
      "Requirement already satisfied: typing-extensions>=4.0.1 in /home/codespace/.local/lib/python3.10/site-packages (from altair) (4.10.0)\n",
      "Requirement already satisfied: attrs>=22.2.0 in /home/codespace/.local/lib/python3.10/site-packages (from jsonschema>=3.0->altair) (23.2.0)\n",
      "Requirement already satisfied: jsonschema-specifications>=2023.03.6 in /home/codespace/.local/lib/python3.10/site-packages (from jsonschema>=3.0->altair) (2023.12.1)\n",
      "Requirement already satisfied: referencing>=0.28.4 in /home/codespace/.local/lib/python3.10/site-packages (from jsonschema>=3.0->altair) (0.33.0)\n",
      "Requirement already satisfied: rpds-py>=0.7.1 in /home/codespace/.local/lib/python3.10/site-packages (from jsonschema>=3.0->altair) (0.18.0)\n",
      "Requirement already satisfied: python-dateutil>=2.8.2 in /home/codespace/.local/lib/python3.10/site-packages (from pandas>=0.25->altair) (2.9.0.post0)\n",
      "Requirement already satisfied: pytz>=2020.1 in /home/codespace/.local/lib/python3.10/site-packages (from pandas>=0.25->altair) (2024.1)\n",
      "Requirement already satisfied: tzdata>=2022.7 in /home/codespace/.local/lib/python3.10/site-packages (from pandas>=0.25->altair) (2024.1)\n",
      "Requirement already satisfied: MarkupSafe>=2.0 in /home/codespace/.local/lib/python3.10/site-packages (from jinja2->altair) (2.1.5)\n",
      "Requirement already satisfied: six>=1.5 in /home/codespace/.local/lib/python3.10/site-packages (from python-dateutil>=2.8.2->pandas>=0.25->altair) (1.16.0)\n",
      "Downloading altair-5.2.0-py3-none-any.whl (996 kB)\n",
      "\u001b[2K   \u001b[90m━━━━━━━━━━━━━━━━━━━━━━━━━━━━━━━━━━━━━━━━\u001b[0m \u001b[32m996.9/996.9 kB\u001b[0m \u001b[31m3.5 MB/s\u001b[0m eta \u001b[36m0:00:00\u001b[0m00:01\u001b[0m00:01\u001b[0m\n",
      "\u001b[?25hDownloading toolz-0.12.1-py3-none-any.whl (56 kB)\n",
      "\u001b[2K   \u001b[90m━━━━━━━━━━━━━━━━━━━━━━━━━━━━━━━━━━━━━━━━\u001b[0m \u001b[32m56.1/56.1 kB\u001b[0m \u001b[31m1.5 MB/s\u001b[0m eta \u001b[36m0:00:00\u001b[0m\n",
      "\u001b[?25hInstalling collected packages: toolz, altair\n",
      "Successfully installed altair-5.2.0 toolz-0.12.1\n"
     ]
    }
   ],
   "source": [
    "!pip install altair"
   ]
  },
  {
   "cell_type": "code",
   "execution_count": 3,
   "metadata": {},
   "outputs": [
    {
     "data": {
      "text/plain": [
       "DataTransformerRegistry.enable('default')"
      ]
     },
     "execution_count": 3,
     "metadata": {},
     "output_type": "execute_result"
    }
   ],
   "source": [
    "import pandas as pd \n",
    "import numpy as np \n",
    "import altair as alt \n",
    "from datetime import datetime \n",
    "\n",
    "alt.data_transformers.disable_max_rows()"
   ]
  },
  {
   "cell_type": "markdown",
   "metadata": {},
   "source": [
    "## Metrics Calculations\n",
    "\n",
    "### 1. User Activity (it's a metric )"
   ]
  },
  {
   "cell_type": "code",
   "execution_count": 8,
   "metadata": {},
   "outputs": [
    {
     "data": {
      "text/html": [
       "<div>\n",
       "<style scoped>\n",
       "    .dataframe tbody tr th:only-of-type {\n",
       "        vertical-align: middle;\n",
       "    }\n",
       "\n",
       "    .dataframe tbody tr th {\n",
       "        vertical-align: top;\n",
       "    }\n",
       "\n",
       "    .dataframe thead th {\n",
       "        text-align: right;\n",
       "    }\n",
       "</style>\n",
       "<table border=\"1\" class=\"dataframe\">\n",
       "  <thead>\n",
       "    <tr style=\"text-align: right;\">\n",
       "      <th></th>\n",
       "      <th>userid</th>\n",
       "      <th>dt</th>\n",
       "      <th>activity_level</th>\n",
       "    </tr>\n",
       "  </thead>\n",
       "  <tbody>\n",
       "    <tr>\n",
       "      <th>0</th>\n",
       "      <td>a5b70ae7-f07c-4773-9df4-ce112bc9dc48</td>\n",
       "      <td>2021-10-01</td>\n",
       "      <td>0</td>\n",
       "    </tr>\n",
       "    <tr>\n",
       "      <th>1</th>\n",
       "      <td>d2646662-269f-49de-aab1-8776afced9a3</td>\n",
       "      <td>2021-10-01</td>\n",
       "      <td>0</td>\n",
       "    </tr>\n",
       "    <tr>\n",
       "      <th>2</th>\n",
       "      <td>c4d1cfa8-283d-49ad-a894-90aedc39c798</td>\n",
       "      <td>2021-10-01</td>\n",
       "      <td>0</td>\n",
       "    </tr>\n",
       "    <tr>\n",
       "      <th>3</th>\n",
       "      <td>6889f87f-5356-4904-a35a-6ea5020011db</td>\n",
       "      <td>2021-10-01</td>\n",
       "      <td>0</td>\n",
       "    </tr>\n",
       "    <tr>\n",
       "      <th>4</th>\n",
       "      <td>dbee604c-474a-4c9d-b013-508e5a0e3059</td>\n",
       "      <td>2021-10-01</td>\n",
       "      <td>0</td>\n",
       "    </tr>\n",
       "  </tbody>\n",
       "</table>\n",
       "</div>"
      ],
      "text/plain": [
       "                                 userid          dt  activity_level\n",
       "0  a5b70ae7-f07c-4773-9df4-ce112bc9dc48  2021-10-01               0\n",
       "1  d2646662-269f-49de-aab1-8776afced9a3  2021-10-01               0\n",
       "2  c4d1cfa8-283d-49ad-a894-90aedc39c798  2021-10-01               0\n",
       "3  6889f87f-5356-4904-a35a-6ea5020011db  2021-10-01               0\n",
       "4  dbee604c-474a-4c9d-b013-508e5a0e3059  2021-10-01               0"
      ]
     },
     "execution_count": 8,
     "metadata": {},
     "output_type": "execute_result"
    }
   ],
   "source": [
    "data = pd.read_csv(\"/workspaces/Learn_AB_Testing/ab-testing-in-python/Course notes/Activity_pretest.csv\")\n",
    "data.head()"
   ]
  },
  {
   "cell_type": "markdown",
   "metadata": {},
   "source": [
    "**Activity level** --> Activity level means how many times a user has been active within the app. Activity defind as opening the app. "
   ]
  },
  {
   "cell_type": "code",
   "execution_count": 13,
   "metadata": {},
   "outputs": [
    {
     "data": {
      "text/plain": [
       "activity_level\n",
       "20     24520\n",
       "7      48339\n",
       "17     48395\n",
       "8      48396\n",
       "13     48534\n",
       "4      48556\n",
       "15     48599\n",
       "14     48620\n",
       "3      48659\n",
       "1      48732\n",
       "9      48820\n",
       "11     48832\n",
       "19     48901\n",
       "6      48901\n",
       "12     48911\n",
       "16     48934\n",
       "10     48943\n",
       "18     48982\n",
       "2      49074\n",
       "5      49227\n",
       "0     909125\n",
       "Name: count, dtype: int64"
      ]
     },
     "execution_count": 13,
     "metadata": {},
     "output_type": "execute_result"
    }
   ],
   "source": [
    "data.activity_level.value_counts().sort_values()\n",
    "\n",
    "## 20 activity levels (it means 20 times 24520 people are opening the app)"
   ]
  },
  {
   "cell_type": "code",
   "execution_count": 14,
   "metadata": {},
   "outputs": [
    {
     "data": {
      "text/html": [
       "<div>\n",
       "<style scoped>\n",
       "    .dataframe tbody tr th:only-of-type {\n",
       "        vertical-align: middle;\n",
       "    }\n",
       "\n",
       "    .dataframe tbody tr th {\n",
       "        vertical-align: top;\n",
       "    }\n",
       "\n",
       "    .dataframe thead tr th {\n",
       "        text-align: left;\n",
       "    }\n",
       "\n",
       "    .dataframe thead tr:last-of-type th {\n",
       "        text-align: right;\n",
       "    }\n",
       "</style>\n",
       "<table border=\"1\" class=\"dataframe\">\n",
       "  <thead>\n",
       "    <tr>\n",
       "      <th></th>\n",
       "      <th colspan=\"4\" halign=\"left\">userid</th>\n",
       "      <th colspan=\"4\" halign=\"left\">dt</th>\n",
       "    </tr>\n",
       "    <tr>\n",
       "      <th></th>\n",
       "      <th>count</th>\n",
       "      <th>unique</th>\n",
       "      <th>top</th>\n",
       "      <th>freq</th>\n",
       "      <th>count</th>\n",
       "      <th>unique</th>\n",
       "      <th>top</th>\n",
       "      <th>freq</th>\n",
       "    </tr>\n",
       "    <tr>\n",
       "      <th>activity_level</th>\n",
       "      <th></th>\n",
       "      <th></th>\n",
       "      <th></th>\n",
       "      <th></th>\n",
       "      <th></th>\n",
       "      <th></th>\n",
       "      <th></th>\n",
       "      <th></th>\n",
       "    </tr>\n",
       "  </thead>\n",
       "  <tbody>\n",
       "    <tr>\n",
       "      <th>0</th>\n",
       "      <td>909125</td>\n",
       "      <td>60000</td>\n",
       "      <td>6b953416-72e5-4b6e-b634-41c8d3bf98a4</td>\n",
       "      <td>27</td>\n",
       "      <td>909125</td>\n",
       "      <td>31</td>\n",
       "      <td>2021-10-11</td>\n",
       "      <td>29511</td>\n",
       "    </tr>\n",
       "    <tr>\n",
       "      <th>1</th>\n",
       "      <td>48732</td>\n",
       "      <td>33688</td>\n",
       "      <td>3c5297b6-602e-4479-9a97-e2b4cb444f0a</td>\n",
       "      <td>6</td>\n",
       "      <td>48732</td>\n",
       "      <td>31</td>\n",
       "      <td>2021-10-19</td>\n",
       "      <td>1620</td>\n",
       "    </tr>\n",
       "    <tr>\n",
       "      <th>2</th>\n",
       "      <td>49074</td>\n",
       "      <td>33761</td>\n",
       "      <td>3d5b7e5d-d7b8-459b-a4f0-33231fc930fd</td>\n",
       "      <td>6</td>\n",
       "      <td>49074</td>\n",
       "      <td>31</td>\n",
       "      <td>2021-10-14</td>\n",
       "      <td>1665</td>\n",
       "    </tr>\n",
       "    <tr>\n",
       "      <th>3</th>\n",
       "      <td>48659</td>\n",
       "      <td>33634</td>\n",
       "      <td>fd9d8064-2f3f-47ba-9deb-0a38bc0b1a3d</td>\n",
       "      <td>6</td>\n",
       "      <td>48659</td>\n",
       "      <td>31</td>\n",
       "      <td>2021-10-28</td>\n",
       "      <td>1663</td>\n",
       "    </tr>\n",
       "    <tr>\n",
       "      <th>4</th>\n",
       "      <td>48556</td>\n",
       "      <td>33502</td>\n",
       "      <td>dc396a83-174c-4244-8a33-71eae2283eeb</td>\n",
       "      <td>8</td>\n",
       "      <td>48556</td>\n",
       "      <td>31</td>\n",
       "      <td>2021-10-29</td>\n",
       "      <td>1632</td>\n",
       "    </tr>\n",
       "  </tbody>\n",
       "</table>\n",
       "</div>"
      ],
      "text/plain": [
       "                userid                                                    \\\n",
       "                 count unique                                   top freq   \n",
       "activity_level                                                             \n",
       "0               909125  60000  6b953416-72e5-4b6e-b634-41c8d3bf98a4   27   \n",
       "1                48732  33688  3c5297b6-602e-4479-9a97-e2b4cb444f0a    6   \n",
       "2                49074  33761  3d5b7e5d-d7b8-459b-a4f0-33231fc930fd    6   \n",
       "3                48659  33634  fd9d8064-2f3f-47ba-9deb-0a38bc0b1a3d    6   \n",
       "4                48556  33502  dc396a83-174c-4244-8a33-71eae2283eeb    8   \n",
       "\n",
       "                    dt                            \n",
       "                 count unique         top   freq  \n",
       "activity_level                                    \n",
       "0               909125     31  2021-10-11  29511  \n",
       "1                48732     31  2021-10-19   1620  \n",
       "2                49074     31  2021-10-14   1665  \n",
       "3                48659     31  2021-10-28   1663  \n",
       "4                48556     31  2021-10-29   1632  "
      ]
     },
     "execution_count": 14,
     "metadata": {},
     "output_type": "execute_result"
    }
   ],
   "source": [
    "## we can analyze the same thing in groupby \n",
    "data.groupby(\"activity_level\").describe().head()"
   ]
  },
  {
   "cell_type": "code",
   "execution_count": 22,
   "metadata": {},
   "outputs": [],
   "source": [
    "## now we know the activity level of the people, now we only look the people who are all active, not exists (0). \n",
    "\n",
    "\n",
    "activity = data.query(\"activity_level > 0\").groupby(['dt', 'activity_level']).count().reset_index()"
   ]
  },
  {
   "cell_type": "code",
   "execution_count": 23,
   "metadata": {},
   "outputs": [
    {
     "data": {
      "text/plain": [
       "dt                620\n",
       "activity_level    620\n",
       "userid            620\n",
       "dtype: int64"
      ]
     },
     "execution_count": 23,
     "metadata": {},
     "output_type": "execute_result"
    }
   ],
   "source": [
    "activity.count()"
   ]
  },
  {
   "cell_type": "code",
   "execution_count": 24,
   "metadata": {},
   "outputs": [
    {
     "data": {
      "text/html": [
       "\n",
       "<style>\n",
       "  #altair-viz-98e2e721779e4faf974366396337fb66.vega-embed {\n",
       "    width: 100%;\n",
       "    display: flex;\n",
       "  }\n",
       "\n",
       "  #altair-viz-98e2e721779e4faf974366396337fb66.vega-embed details,\n",
       "  #altair-viz-98e2e721779e4faf974366396337fb66.vega-embed details summary {\n",
       "    position: relative;\n",
       "  }\n",
       "</style>\n",
       "<div id=\"altair-viz-98e2e721779e4faf974366396337fb66\"></div>\n",
       "<script type=\"text/javascript\">\n",
       "  var VEGA_DEBUG = (typeof VEGA_DEBUG == \"undefined\") ? {} : VEGA_DEBUG;\n",
       "  (function(spec, embedOpt){\n",
       "    let outputDiv = document.currentScript.previousElementSibling;\n",
       "    if (outputDiv.id !== \"altair-viz-98e2e721779e4faf974366396337fb66\") {\n",
       "      outputDiv = document.getElementById(\"altair-viz-98e2e721779e4faf974366396337fb66\");\n",
       "    }\n",
       "    const paths = {\n",
       "      \"vega\": \"https://cdn.jsdelivr.net/npm/vega@5?noext\",\n",
       "      \"vega-lib\": \"https://cdn.jsdelivr.net/npm/vega-lib?noext\",\n",
       "      \"vega-lite\": \"https://cdn.jsdelivr.net/npm/vega-lite@5.16.3?noext\",\n",
       "      \"vega-embed\": \"https://cdn.jsdelivr.net/npm/vega-embed@6?noext\",\n",
       "    };\n",
       "\n",
       "    function maybeLoadScript(lib, version) {\n",
       "      var key = `${lib.replace(\"-\", \"\")}_version`;\n",
       "      return (VEGA_DEBUG[key] == version) ?\n",
       "        Promise.resolve(paths[lib]) :\n",
       "        new Promise(function(resolve, reject) {\n",
       "          var s = document.createElement('script');\n",
       "          document.getElementsByTagName(\"head\")[0].appendChild(s);\n",
       "          s.async = true;\n",
       "          s.onload = () => {\n",
       "            VEGA_DEBUG[key] = version;\n",
       "            return resolve(paths[lib]);\n",
       "          };\n",
       "          s.onerror = () => reject(`Error loading script: ${paths[lib]}`);\n",
       "          s.src = paths[lib];\n",
       "        });\n",
       "    }\n",
       "\n",
       "    function showError(err) {\n",
       "      outputDiv.innerHTML = `<div class=\"error\" style=\"color:red;\">${err}</div>`;\n",
       "      throw err;\n",
       "    }\n",
       "\n",
       "    function displayChart(vegaEmbed) {\n",
       "      vegaEmbed(outputDiv, spec, embedOpt)\n",
       "        .catch(err => showError(`Javascript Error: ${err.message}<br>This usually means there's a typo in your chart specification. See the javascript console for the full traceback.`));\n",
       "    }\n",
       "\n",
       "    if(typeof define === \"function\" && define.amd) {\n",
       "      requirejs.config({paths});\n",
       "      require([\"vega-embed\"], displayChart, err => showError(`Error loading script: ${err.message}`));\n",
       "    } else {\n",
       "      maybeLoadScript(\"vega\", \"5\")\n",
       "        .then(() => maybeLoadScript(\"vega-lite\", \"5.16.3\"))\n",
       "        .then(() => maybeLoadScript(\"vega-embed\", \"6\"))\n",
       "        .catch(showError)\n",
       "        .then(() => displayChart(vegaEmbed));\n",
       "    }\n",
       "  })({\"config\": {\"view\": {\"continuousWidth\": 300, \"continuousHeight\": 300}}, \"data\": {\"name\": \"data-23bb5d861b06c59f8360185c22900bf5\"}, \"mark\": {\"type\": \"line\", \"size\": 1}, \"encoding\": {\"color\": {\"field\": \"activity_level\", \"type\": \"nominal\"}, \"tooltip\": [{\"field\": \"activity_level\", \"type\": \"quantitative\"}], \"x\": {\"axis\": {\"title\": \"date\"}, \"field\": \"dt\", \"type\": \"temporal\"}, \"y\": {\"axis\": {\"title\": \"number of users\"}, \"field\": \"userid\", \"type\": \"quantitative\"}}, \"height\": 400, \"title\": \"Activity level\", \"width\": 600, \"$schema\": \"https://vega.github.io/schema/vega-lite/v5.16.3.json\", \"datasets\": {\"data-23bb5d861b06c59f8360185c22900bf5\": [{\"dt\": \"2021-10-01\", \"activity_level\": 1, \"userid\": 1602}, {\"dt\": \"2021-10-01\", \"activity_level\": 2, \"userid\": 1507}, {\"dt\": \"2021-10-01\", \"activity_level\": 3, \"userid\": 1587}, {\"dt\": \"2021-10-01\", \"activity_level\": 4, \"userid\": 1551}, {\"dt\": \"2021-10-01\", \"activity_level\": 5, \"userid\": 1586}, {\"dt\": \"2021-10-01\", \"activity_level\": 6, \"userid\": 1640}, {\"dt\": \"2021-10-01\", \"activity_level\": 7, \"userid\": 1508}, {\"dt\": \"2021-10-01\", \"activity_level\": 8, \"userid\": 1571}, {\"dt\": \"2021-10-01\", \"activity_level\": 9, \"userid\": 1576}, {\"dt\": \"2021-10-01\", \"activity_level\": 10, \"userid\": 1593}, {\"dt\": \"2021-10-01\", \"activity_level\": 11, \"userid\": 1497}, {\"dt\": \"2021-10-01\", \"activity_level\": 12, \"userid\": 1623}, {\"dt\": \"2021-10-01\", \"activity_level\": 13, \"userid\": 1554}, {\"dt\": \"2021-10-01\", \"activity_level\": 14, \"userid\": 1572}, {\"dt\": \"2021-10-01\", \"activity_level\": 15, \"userid\": 1508}, {\"dt\": \"2021-10-01\", \"activity_level\": 16, \"userid\": 1628}, {\"dt\": \"2021-10-01\", \"activity_level\": 17, \"userid\": 1593}, {\"dt\": \"2021-10-01\", \"activity_level\": 18, \"userid\": 1597}, {\"dt\": \"2021-10-01\", \"activity_level\": 19, \"userid\": 1572}, {\"dt\": \"2021-10-01\", \"activity_level\": 20, \"userid\": 769}, {\"dt\": \"2021-10-02\", \"activity_level\": 1, \"userid\": 1582}, {\"dt\": \"2021-10-02\", \"activity_level\": 2, \"userid\": 1543}, {\"dt\": \"2021-10-02\", \"activity_level\": 3, \"userid\": 1545}, {\"dt\": \"2021-10-02\", \"activity_level\": 4, \"userid\": 1618}, {\"dt\": \"2021-10-02\", \"activity_level\": 5, \"userid\": 1607}, {\"dt\": \"2021-10-02\", \"activity_level\": 6, \"userid\": 1563}, {\"dt\": \"2021-10-02\", \"activity_level\": 7, \"userid\": 1560}, {\"dt\": \"2021-10-02\", \"activity_level\": 8, \"userid\": 1557}, {\"dt\": \"2021-10-02\", \"activity_level\": 9, \"userid\": 1602}, {\"dt\": \"2021-10-02\", \"activity_level\": 10, \"userid\": 1593}, {\"dt\": \"2021-10-02\", \"activity_level\": 11, \"userid\": 1590}, {\"dt\": \"2021-10-02\", \"activity_level\": 12, \"userid\": 1579}, {\"dt\": \"2021-10-02\", \"activity_level\": 13, \"userid\": 1572}, {\"dt\": \"2021-10-02\", \"activity_level\": 14, \"userid\": 1532}, {\"dt\": \"2021-10-02\", \"activity_level\": 15, \"userid\": 1587}, {\"dt\": \"2021-10-02\", \"activity_level\": 16, \"userid\": 1620}, {\"dt\": \"2021-10-02\", \"activity_level\": 17, \"userid\": 1545}, {\"dt\": \"2021-10-02\", \"activity_level\": 18, \"userid\": 1611}, {\"dt\": \"2021-10-02\", \"activity_level\": 19, \"userid\": 1611}, {\"dt\": \"2021-10-02\", \"activity_level\": 20, \"userid\": 758}, {\"dt\": \"2021-10-03\", \"activity_level\": 1, \"userid\": 1618}, {\"dt\": \"2021-10-03\", \"activity_level\": 2, \"userid\": 1631}, {\"dt\": \"2021-10-03\", \"activity_level\": 3, \"userid\": 1551}, {\"dt\": \"2021-10-03\", \"activity_level\": 4, \"userid\": 1503}, {\"dt\": \"2021-10-03\", \"activity_level\": 5, \"userid\": 1564}, {\"dt\": \"2021-10-03\", \"activity_level\": 6, \"userid\": 1606}, {\"dt\": \"2021-10-03\", \"activity_level\": 7, \"userid\": 1642}, {\"dt\": \"2021-10-03\", \"activity_level\": 8, \"userid\": 1555}, {\"dt\": \"2021-10-03\", \"activity_level\": 9, \"userid\": 1597}, {\"dt\": \"2021-10-03\", \"activity_level\": 10, \"userid\": 1569}, {\"dt\": \"2021-10-03\", \"activity_level\": 11, \"userid\": 1650}, {\"dt\": \"2021-10-03\", \"activity_level\": 12, \"userid\": 1579}, {\"dt\": \"2021-10-03\", \"activity_level\": 13, \"userid\": 1520}, {\"dt\": \"2021-10-03\", \"activity_level\": 14, \"userid\": 1597}, {\"dt\": \"2021-10-03\", \"activity_level\": 15, \"userid\": 1574}, {\"dt\": \"2021-10-03\", \"activity_level\": 16, \"userid\": 1576}, {\"dt\": \"2021-10-03\", \"activity_level\": 17, \"userid\": 1559}, {\"dt\": \"2021-10-03\", \"activity_level\": 18, \"userid\": 1556}, {\"dt\": \"2021-10-03\", \"activity_level\": 19, \"userid\": 1533}, {\"dt\": \"2021-10-03\", \"activity_level\": 20, \"userid\": 805}, {\"dt\": \"2021-10-04\", \"activity_level\": 1, \"userid\": 1576}, {\"dt\": \"2021-10-04\", \"activity_level\": 2, \"userid\": 1566}, {\"dt\": \"2021-10-04\", \"activity_level\": 3, \"userid\": 1529}, {\"dt\": \"2021-10-04\", \"activity_level\": 4, \"userid\": 1579}, {\"dt\": \"2021-10-04\", \"activity_level\": 5, \"userid\": 1553}, {\"dt\": \"2021-10-04\", \"activity_level\": 6, \"userid\": 1525}, {\"dt\": \"2021-10-04\", \"activity_level\": 7, \"userid\": 1579}, {\"dt\": \"2021-10-04\", \"activity_level\": 8, \"userid\": 1566}, {\"dt\": \"2021-10-04\", \"activity_level\": 9, \"userid\": 1586}, {\"dt\": \"2021-10-04\", \"activity_level\": 10, \"userid\": 1540}, {\"dt\": \"2021-10-04\", \"activity_level\": 11, \"userid\": 1569}, {\"dt\": \"2021-10-04\", \"activity_level\": 12, \"userid\": 1589}, {\"dt\": \"2021-10-04\", \"activity_level\": 13, \"userid\": 1586}, {\"dt\": \"2021-10-04\", \"activity_level\": 14, \"userid\": 1574}, {\"dt\": \"2021-10-04\", \"activity_level\": 15, \"userid\": 1580}, {\"dt\": \"2021-10-04\", \"activity_level\": 16, \"userid\": 1539}, {\"dt\": \"2021-10-04\", \"activity_level\": 17, \"userid\": 1586}, {\"dt\": \"2021-10-04\", \"activity_level\": 18, \"userid\": 1577}, {\"dt\": \"2021-10-04\", \"activity_level\": 19, \"userid\": 1617}, {\"dt\": \"2021-10-04\", \"activity_level\": 20, \"userid\": 783}, {\"dt\": \"2021-10-05\", \"activity_level\": 1, \"userid\": 1531}, {\"dt\": \"2021-10-05\", \"activity_level\": 2, \"userid\": 1636}, {\"dt\": \"2021-10-05\", \"activity_level\": 3, \"userid\": 1556}, {\"dt\": \"2021-10-05\", \"activity_level\": 4, \"userid\": 1555}, {\"dt\": \"2021-10-05\", \"activity_level\": 5, \"userid\": 1581}, {\"dt\": \"2021-10-05\", \"activity_level\": 6, \"userid\": 1561}, {\"dt\": \"2021-10-05\", \"activity_level\": 7, \"userid\": 1541}, {\"dt\": \"2021-10-05\", \"activity_level\": 8, \"userid\": 1554}, {\"dt\": \"2021-10-05\", \"activity_level\": 9, \"userid\": 1609}, {\"dt\": \"2021-10-05\", \"activity_level\": 10, \"userid\": 1557}, {\"dt\": \"2021-10-05\", \"activity_level\": 11, \"userid\": 1529}, {\"dt\": \"2021-10-05\", \"activity_level\": 12, \"userid\": 1596}, {\"dt\": \"2021-10-05\", \"activity_level\": 13, \"userid\": 1569}, {\"dt\": \"2021-10-05\", \"activity_level\": 14, \"userid\": 1569}, {\"dt\": \"2021-10-05\", \"activity_level\": 15, \"userid\": 1584}, {\"dt\": \"2021-10-05\", \"activity_level\": 16, \"userid\": 1519}, {\"dt\": \"2021-10-05\", \"activity_level\": 17, \"userid\": 1564}, {\"dt\": \"2021-10-05\", \"activity_level\": 18, \"userid\": 1584}, {\"dt\": \"2021-10-05\", \"activity_level\": 19, \"userid\": 1584}, {\"dt\": \"2021-10-05\", \"activity_level\": 20, \"userid\": 809}, {\"dt\": \"2021-10-06\", \"activity_level\": 1, \"userid\": 1585}, {\"dt\": \"2021-10-06\", \"activity_level\": 2, \"userid\": 1644}, {\"dt\": \"2021-10-06\", \"activity_level\": 3, \"userid\": 1588}, {\"dt\": \"2021-10-06\", \"activity_level\": 4, \"userid\": 1558}, {\"dt\": \"2021-10-06\", \"activity_level\": 5, \"userid\": 1529}, {\"dt\": \"2021-10-06\", \"activity_level\": 6, \"userid\": 1591}, {\"dt\": \"2021-10-06\", \"activity_level\": 7, \"userid\": 1625}, {\"dt\": \"2021-10-06\", \"activity_level\": 8, \"userid\": 1562}, {\"dt\": \"2021-10-06\", \"activity_level\": 9, \"userid\": 1573}, {\"dt\": \"2021-10-06\", \"activity_level\": 10, \"userid\": 1546}, {\"dt\": \"2021-10-06\", \"activity_level\": 11, \"userid\": 1587}, {\"dt\": \"2021-10-06\", \"activity_level\": 12, \"userid\": 1606}, {\"dt\": \"2021-10-06\", \"activity_level\": 13, \"userid\": 1544}, {\"dt\": \"2021-10-06\", \"activity_level\": 14, \"userid\": 1500}, {\"dt\": \"2021-10-06\", \"activity_level\": 15, \"userid\": 1542}, {\"dt\": \"2021-10-06\", \"activity_level\": 16, \"userid\": 1554}, {\"dt\": \"2021-10-06\", \"activity_level\": 17, \"userid\": 1545}, {\"dt\": \"2021-10-06\", \"activity_level\": 18, \"userid\": 1561}, {\"dt\": \"2021-10-06\", \"activity_level\": 19, \"userid\": 1600}, {\"dt\": \"2021-10-06\", \"activity_level\": 20, \"userid\": 799}, {\"dt\": \"2021-10-07\", \"activity_level\": 1, \"userid\": 1534}, {\"dt\": \"2021-10-07\", \"activity_level\": 2, \"userid\": 1584}, {\"dt\": \"2021-10-07\", \"activity_level\": 3, \"userid\": 1540}, {\"dt\": \"2021-10-07\", \"activity_level\": 4, \"userid\": 1608}, {\"dt\": \"2021-10-07\", \"activity_level\": 5, \"userid\": 1610}, {\"dt\": \"2021-10-07\", \"activity_level\": 6, \"userid\": 1597}, {\"dt\": \"2021-10-07\", \"activity_level\": 7, \"userid\": 1559}, {\"dt\": \"2021-10-07\", \"activity_level\": 8, \"userid\": 1610}, {\"dt\": \"2021-10-07\", \"activity_level\": 9, \"userid\": 1524}, {\"dt\": \"2021-10-07\", \"activity_level\": 10, \"userid\": 1592}, {\"dt\": \"2021-10-07\", \"activity_level\": 11, \"userid\": 1549}, {\"dt\": \"2021-10-07\", \"activity_level\": 12, \"userid\": 1592}, {\"dt\": \"2021-10-07\", \"activity_level\": 13, \"userid\": 1538}, {\"dt\": \"2021-10-07\", \"activity_level\": 14, \"userid\": 1572}, {\"dt\": \"2021-10-07\", \"activity_level\": 15, \"userid\": 1557}, {\"dt\": \"2021-10-07\", \"activity_level\": 16, \"userid\": 1583}, {\"dt\": \"2021-10-07\", \"activity_level\": 17, \"userid\": 1609}, {\"dt\": \"2021-10-07\", \"activity_level\": 18, \"userid\": 1554}, {\"dt\": \"2021-10-07\", \"activity_level\": 19, \"userid\": 1544}, {\"dt\": \"2021-10-07\", \"activity_level\": 20, \"userid\": 781}, {\"dt\": \"2021-10-08\", \"activity_level\": 1, \"userid\": 1580}, {\"dt\": \"2021-10-08\", \"activity_level\": 2, \"userid\": 1592}, {\"dt\": \"2021-10-08\", \"activity_level\": 3, \"userid\": 1518}, {\"dt\": \"2021-10-08\", \"activity_level\": 4, \"userid\": 1533}, {\"dt\": \"2021-10-08\", \"activity_level\": 5, \"userid\": 1615}, {\"dt\": \"2021-10-08\", \"activity_level\": 6, \"userid\": 1438}, {\"dt\": \"2021-10-08\", \"activity_level\": 7, \"userid\": 1595}, {\"dt\": \"2021-10-08\", \"activity_level\": 8, \"userid\": 1518}, {\"dt\": \"2021-10-08\", \"activity_level\": 9, \"userid\": 1621}, {\"dt\": \"2021-10-08\", \"activity_level\": 10, \"userid\": 1518}, {\"dt\": \"2021-10-08\", \"activity_level\": 11, \"userid\": 1583}, {\"dt\": \"2021-10-08\", \"activity_level\": 12, \"userid\": 1581}, {\"dt\": \"2021-10-08\", \"activity_level\": 13, \"userid\": 1631}, {\"dt\": \"2021-10-08\", \"activity_level\": 14, \"userid\": 1610}, {\"dt\": \"2021-10-08\", \"activity_level\": 15, \"userid\": 1529}, {\"dt\": \"2021-10-08\", \"activity_level\": 16, \"userid\": 1650}, {\"dt\": \"2021-10-08\", \"activity_level\": 17, \"userid\": 1516}, {\"dt\": \"2021-10-08\", \"activity_level\": 18, \"userid\": 1649}, {\"dt\": \"2021-10-08\", \"activity_level\": 19, \"userid\": 1510}, {\"dt\": \"2021-10-08\", \"activity_level\": 20, \"userid\": 813}, {\"dt\": \"2021-10-09\", \"activity_level\": 1, \"userid\": 1556}, {\"dt\": \"2021-10-09\", \"activity_level\": 2, \"userid\": 1572}, {\"dt\": \"2021-10-09\", \"activity_level\": 3, \"userid\": 1580}, {\"dt\": \"2021-10-09\", \"activity_level\": 4, \"userid\": 1562}, {\"dt\": \"2021-10-09\", \"activity_level\": 5, \"userid\": 1676}, {\"dt\": \"2021-10-09\", \"activity_level\": 6, \"userid\": 1639}, {\"dt\": \"2021-10-09\", \"activity_level\": 7, \"userid\": 1544}, {\"dt\": \"2021-10-09\", \"activity_level\": 8, \"userid\": 1586}, {\"dt\": \"2021-10-09\", \"activity_level\": 9, \"userid\": 1595}, {\"dt\": \"2021-10-09\", \"activity_level\": 10, \"userid\": 1563}, {\"dt\": \"2021-10-09\", \"activity_level\": 11, \"userid\": 1573}, {\"dt\": \"2021-10-09\", \"activity_level\": 12, \"userid\": 1497}, {\"dt\": \"2021-10-09\", \"activity_level\": 13, \"userid\": 1623}, {\"dt\": \"2021-10-09\", \"activity_level\": 14, \"userid\": 1567}, {\"dt\": \"2021-10-09\", \"activity_level\": 15, \"userid\": 1566}, {\"dt\": \"2021-10-09\", \"activity_level\": 16, \"userid\": 1607}, {\"dt\": \"2021-10-09\", \"activity_level\": 17, \"userid\": 1565}, {\"dt\": \"2021-10-09\", \"activity_level\": 18, \"userid\": 1641}, {\"dt\": \"2021-10-09\", \"activity_level\": 19, \"userid\": 1577}, {\"dt\": \"2021-10-09\", \"activity_level\": 20, \"userid\": 813}, {\"dt\": \"2021-10-10\", \"activity_level\": 1, \"userid\": 1605}, {\"dt\": \"2021-10-10\", \"activity_level\": 2, \"userid\": 1485}, {\"dt\": \"2021-10-10\", \"activity_level\": 3, \"userid\": 1586}, {\"dt\": \"2021-10-10\", \"activity_level\": 4, \"userid\": 1534}, {\"dt\": \"2021-10-10\", \"activity_level\": 5, \"userid\": 1603}, {\"dt\": \"2021-10-10\", \"activity_level\": 6, \"userid\": 1576}, {\"dt\": \"2021-10-10\", \"activity_level\": 7, \"userid\": 1554}, {\"dt\": \"2021-10-10\", \"activity_level\": 8, \"userid\": 1527}, {\"dt\": \"2021-10-10\", \"activity_level\": 9, \"userid\": 1535}, {\"dt\": \"2021-10-10\", \"activity_level\": 10, \"userid\": 1548}, {\"dt\": \"2021-10-10\", \"activity_level\": 11, \"userid\": 1635}, {\"dt\": \"2021-10-10\", \"activity_level\": 12, \"userid\": 1558}, {\"dt\": \"2021-10-10\", \"activity_level\": 13, \"userid\": 1584}, {\"dt\": \"2021-10-10\", \"activity_level\": 14, \"userid\": 1544}, {\"dt\": \"2021-10-10\", \"activity_level\": 15, \"userid\": 1578}, {\"dt\": \"2021-10-10\", \"activity_level\": 16, \"userid\": 1627}, {\"dt\": \"2021-10-10\", \"activity_level\": 17, \"userid\": 1579}, {\"dt\": \"2021-10-10\", \"activity_level\": 18, \"userid\": 1568}, {\"dt\": \"2021-10-10\", \"activity_level\": 19, \"userid\": 1555}, {\"dt\": \"2021-10-10\", \"activity_level\": 20, \"userid\": 800}, {\"dt\": \"2021-10-11\", \"activity_level\": 1, \"userid\": 1582}, {\"dt\": \"2021-10-11\", \"activity_level\": 2, \"userid\": 1564}, {\"dt\": \"2021-10-11\", \"activity_level\": 3, \"userid\": 1529}, {\"dt\": \"2021-10-11\", \"activity_level\": 4, \"userid\": 1568}, {\"dt\": \"2021-10-11\", \"activity_level\": 5, \"userid\": 1686}, {\"dt\": \"2021-10-11\", \"activity_level\": 6, \"userid\": 1559}, {\"dt\": \"2021-10-11\", \"activity_level\": 7, \"userid\": 1588}, {\"dt\": \"2021-10-11\", \"activity_level\": 8, \"userid\": 1544}, {\"dt\": \"2021-10-11\", \"activity_level\": 9, \"userid\": 1535}, {\"dt\": \"2021-10-11\", \"activity_level\": 10, \"userid\": 1588}, {\"dt\": \"2021-10-11\", \"activity_level\": 11, \"userid\": 1533}, {\"dt\": \"2021-10-11\", \"activity_level\": 12, \"userid\": 1550}, {\"dt\": \"2021-10-11\", \"activity_level\": 13, \"userid\": 1526}, {\"dt\": \"2021-10-11\", \"activity_level\": 14, \"userid\": 1630}, {\"dt\": \"2021-10-11\", \"activity_level\": 15, \"userid\": 1543}, {\"dt\": \"2021-10-11\", \"activity_level\": 16, \"userid\": 1620}, {\"dt\": \"2021-10-11\", \"activity_level\": 17, \"userid\": 1531}, {\"dt\": \"2021-10-11\", \"activity_level\": 18, \"userid\": 1504}, {\"dt\": \"2021-10-11\", \"activity_level\": 19, \"userid\": 1571}, {\"dt\": \"2021-10-11\", \"activity_level\": 20, \"userid\": 738}, {\"dt\": \"2021-10-12\", \"activity_level\": 1, \"userid\": 1546}, {\"dt\": \"2021-10-12\", \"activity_level\": 2, \"userid\": 1628}, {\"dt\": \"2021-10-12\", \"activity_level\": 3, \"userid\": 1555}, {\"dt\": \"2021-10-12\", \"activity_level\": 4, \"userid\": 1612}, {\"dt\": \"2021-10-12\", \"activity_level\": 5, \"userid\": 1614}, {\"dt\": \"2021-10-12\", \"activity_level\": 6, \"userid\": 1528}, {\"dt\": \"2021-10-12\", \"activity_level\": 7, \"userid\": 1519}, {\"dt\": \"2021-10-12\", \"activity_level\": 8, \"userid\": 1513}, {\"dt\": \"2021-10-12\", \"activity_level\": 9, \"userid\": 1527}, {\"dt\": \"2021-10-12\", \"activity_level\": 10, \"userid\": 1634}, {\"dt\": \"2021-10-12\", \"activity_level\": 11, \"userid\": 1542}, {\"dt\": \"2021-10-12\", \"activity_level\": 12, \"userid\": 1628}, {\"dt\": \"2021-10-12\", \"activity_level\": 13, \"userid\": 1619}, {\"dt\": \"2021-10-12\", \"activity_level\": 14, \"userid\": 1606}, {\"dt\": \"2021-10-12\", \"activity_level\": 15, \"userid\": 1560}, {\"dt\": \"2021-10-12\", \"activity_level\": 16, \"userid\": 1630}, {\"dt\": \"2021-10-12\", \"activity_level\": 17, \"userid\": 1554}, {\"dt\": \"2021-10-12\", \"activity_level\": 18, \"userid\": 1535}, {\"dt\": \"2021-10-12\", \"activity_level\": 19, \"userid\": 1595}, {\"dt\": \"2021-10-12\", \"activity_level\": 20, \"userid\": 770}, {\"dt\": \"2021-10-13\", \"activity_level\": 1, \"userid\": 1591}, {\"dt\": \"2021-10-13\", \"activity_level\": 2, \"userid\": 1487}, {\"dt\": \"2021-10-13\", \"activity_level\": 3, \"userid\": 1536}, {\"dt\": \"2021-10-13\", \"activity_level\": 4, \"userid\": 1602}, {\"dt\": \"2021-10-13\", \"activity_level\": 5, \"userid\": 1675}, {\"dt\": \"2021-10-13\", \"activity_level\": 6, \"userid\": 1590}, {\"dt\": \"2021-10-13\", \"activity_level\": 7, \"userid\": 1539}, {\"dt\": \"2021-10-13\", \"activity_level\": 8, \"userid\": 1529}, {\"dt\": \"2021-10-13\", \"activity_level\": 9, \"userid\": 1603}, {\"dt\": \"2021-10-13\", \"activity_level\": 10, \"userid\": 1622}, {\"dt\": \"2021-10-13\", \"activity_level\": 11, \"userid\": 1574}, {\"dt\": \"2021-10-13\", \"activity_level\": 12, \"userid\": 1600}, {\"dt\": \"2021-10-13\", \"activity_level\": 13, \"userid\": 1572}, {\"dt\": \"2021-10-13\", \"activity_level\": 14, \"userid\": 1573}, {\"dt\": \"2021-10-13\", \"activity_level\": 15, \"userid\": 1612}, {\"dt\": \"2021-10-13\", \"activity_level\": 16, \"userid\": 1521}, {\"dt\": \"2021-10-13\", \"activity_level\": 17, \"userid\": 1553}, {\"dt\": \"2021-10-13\", \"activity_level\": 18, \"userid\": 1556}, {\"dt\": \"2021-10-13\", \"activity_level\": 19, \"userid\": 1620}, {\"dt\": \"2021-10-13\", \"activity_level\": 20, \"userid\": 806}, {\"dt\": \"2021-10-14\", \"activity_level\": 1, \"userid\": 1542}, {\"dt\": \"2021-10-14\", \"activity_level\": 2, \"userid\": 1665}, {\"dt\": \"2021-10-14\", \"activity_level\": 3, \"userid\": 1563}, {\"dt\": \"2021-10-14\", \"activity_level\": 4, \"userid\": 1550}, {\"dt\": \"2021-10-14\", \"activity_level\": 5, \"userid\": 1604}, {\"dt\": \"2021-10-14\", \"activity_level\": 6, \"userid\": 1644}, {\"dt\": \"2021-10-14\", \"activity_level\": 7, \"userid\": 1622}, {\"dt\": \"2021-10-14\", \"activity_level\": 8, \"userid\": 1641}, {\"dt\": \"2021-10-14\", \"activity_level\": 9, \"userid\": 1578}, {\"dt\": \"2021-10-14\", \"activity_level\": 10, \"userid\": 1625}, {\"dt\": \"2021-10-14\", \"activity_level\": 11, \"userid\": 1544}, {\"dt\": \"2021-10-14\", \"activity_level\": 12, \"userid\": 1525}, {\"dt\": \"2021-10-14\", \"activity_level\": 13, \"userid\": 1493}, {\"dt\": \"2021-10-14\", \"activity_level\": 14, \"userid\": 1627}, {\"dt\": \"2021-10-14\", \"activity_level\": 15, \"userid\": 1590}, {\"dt\": \"2021-10-14\", \"activity_level\": 16, \"userid\": 1537}, {\"dt\": \"2021-10-14\", \"activity_level\": 17, \"userid\": 1514}, {\"dt\": \"2021-10-14\", \"activity_level\": 18, \"userid\": 1548}, {\"dt\": \"2021-10-14\", \"activity_level\": 19, \"userid\": 1548}, {\"dt\": \"2021-10-14\", \"activity_level\": 20, \"userid\": 756}, {\"dt\": \"2021-10-15\", \"activity_level\": 1, \"userid\": 1528}, {\"dt\": \"2021-10-15\", \"activity_level\": 2, \"userid\": 1586}, {\"dt\": \"2021-10-15\", \"activity_level\": 3, \"userid\": 1620}, {\"dt\": \"2021-10-15\", \"activity_level\": 4, \"userid\": 1556}, {\"dt\": \"2021-10-15\", \"activity_level\": 5, \"userid\": 1549}, {\"dt\": \"2021-10-15\", \"activity_level\": 6, \"userid\": 1567}, {\"dt\": \"2021-10-15\", \"activity_level\": 7, \"userid\": 1553}, {\"dt\": \"2021-10-15\", \"activity_level\": 8, \"userid\": 1601}, {\"dt\": \"2021-10-15\", \"activity_level\": 9, \"userid\": 1612}, {\"dt\": \"2021-10-15\", \"activity_level\": 10, \"userid\": 1495}, {\"dt\": \"2021-10-15\", \"activity_level\": 11, \"userid\": 1612}, {\"dt\": \"2021-10-15\", \"activity_level\": 12, \"userid\": 1493}, {\"dt\": \"2021-10-15\", \"activity_level\": 13, \"userid\": 1574}, {\"dt\": \"2021-10-15\", \"activity_level\": 14, \"userid\": 1599}, {\"dt\": \"2021-10-15\", \"activity_level\": 15, \"userid\": 1622}, {\"dt\": \"2021-10-15\", \"activity_level\": 16, \"userid\": 1521}, {\"dt\": \"2021-10-15\", \"activity_level\": 17, \"userid\": 1547}, {\"dt\": \"2021-10-15\", \"activity_level\": 18, \"userid\": 1624}, {\"dt\": \"2021-10-15\", \"activity_level\": 19, \"userid\": 1583}, {\"dt\": \"2021-10-15\", \"activity_level\": 20, \"userid\": 795}, {\"dt\": \"2021-10-16\", \"activity_level\": 1, \"userid\": 1585}, {\"dt\": \"2021-10-16\", \"activity_level\": 2, \"userid\": 1609}, {\"dt\": \"2021-10-16\", \"activity_level\": 3, \"userid\": 1575}, {\"dt\": \"2021-10-16\", \"activity_level\": 4, \"userid\": 1577}, {\"dt\": \"2021-10-16\", \"activity_level\": 5, \"userid\": 1529}, {\"dt\": \"2021-10-16\", \"activity_level\": 6, \"userid\": 1573}, {\"dt\": \"2021-10-16\", \"activity_level\": 7, \"userid\": 1514}, {\"dt\": \"2021-10-16\", \"activity_level\": 8, \"userid\": 1572}, {\"dt\": \"2021-10-16\", \"activity_level\": 9, \"userid\": 1599}, {\"dt\": \"2021-10-16\", \"activity_level\": 10, \"userid\": 1590}, {\"dt\": \"2021-10-16\", \"activity_level\": 11, \"userid\": 1613}, {\"dt\": \"2021-10-16\", \"activity_level\": 12, \"userid\": 1616}, {\"dt\": \"2021-10-16\", \"activity_level\": 13, \"userid\": 1550}, {\"dt\": \"2021-10-16\", \"activity_level\": 14, \"userid\": 1560}, {\"dt\": \"2021-10-16\", \"activity_level\": 15, \"userid\": 1562}, {\"dt\": \"2021-10-16\", \"activity_level\": 16, \"userid\": 1565}, {\"dt\": \"2021-10-16\", \"activity_level\": 17, \"userid\": 1537}, {\"dt\": \"2021-10-16\", \"activity_level\": 18, \"userid\": 1578}, {\"dt\": \"2021-10-16\", \"activity_level\": 19, \"userid\": 1614}, {\"dt\": \"2021-10-16\", \"activity_level\": 20, \"userid\": 790}, {\"dt\": \"2021-10-17\", \"activity_level\": 1, \"userid\": 1572}, {\"dt\": \"2021-10-17\", \"activity_level\": 2, \"userid\": 1639}, {\"dt\": \"2021-10-17\", \"activity_level\": 3, \"userid\": 1570}, {\"dt\": \"2021-10-17\", \"activity_level\": 4, \"userid\": 1525}, {\"dt\": \"2021-10-17\", \"activity_level\": 5, \"userid\": 1626}, {\"dt\": \"2021-10-17\", \"activity_level\": 6, \"userid\": 1565}, {\"dt\": \"2021-10-17\", \"activity_level\": 7, \"userid\": 1603}, {\"dt\": \"2021-10-17\", \"activity_level\": 8, \"userid\": 1550}, {\"dt\": \"2021-10-17\", \"activity_level\": 9, \"userid\": 1593}, {\"dt\": \"2021-10-17\", \"activity_level\": 10, \"userid\": 1581}, {\"dt\": \"2021-10-17\", \"activity_level\": 11, \"userid\": 1557}, {\"dt\": \"2021-10-17\", \"activity_level\": 12, \"userid\": 1528}, {\"dt\": \"2021-10-17\", \"activity_level\": 13, \"userid\": 1530}, {\"dt\": \"2021-10-17\", \"activity_level\": 14, \"userid\": 1568}, {\"dt\": \"2021-10-17\", \"activity_level\": 15, \"userid\": 1548}, {\"dt\": \"2021-10-17\", \"activity_level\": 16, \"userid\": 1635}, {\"dt\": \"2021-10-17\", \"activity_level\": 17, \"userid\": 1572}, {\"dt\": \"2021-10-17\", \"activity_level\": 18, \"userid\": 1606}, {\"dt\": \"2021-10-17\", \"activity_level\": 19, \"userid\": 1535}, {\"dt\": \"2021-10-17\", \"activity_level\": 20, \"userid\": 838}, {\"dt\": \"2021-10-18\", \"activity_level\": 1, \"userid\": 1573}, {\"dt\": \"2021-10-18\", \"activity_level\": 2, \"userid\": 1643}, {\"dt\": \"2021-10-18\", \"activity_level\": 3, \"userid\": 1596}, {\"dt\": \"2021-10-18\", \"activity_level\": 4, \"userid\": 1565}, {\"dt\": \"2021-10-18\", \"activity_level\": 5, \"userid\": 1580}, {\"dt\": \"2021-10-18\", \"activity_level\": 6, \"userid\": 1584}, {\"dt\": \"2021-10-18\", \"activity_level\": 7, \"userid\": 1566}, {\"dt\": \"2021-10-18\", \"activity_level\": 8, \"userid\": 1594}, {\"dt\": \"2021-10-18\", \"activity_level\": 9, \"userid\": 1589}, {\"dt\": \"2021-10-18\", \"activity_level\": 10, \"userid\": 1542}, {\"dt\": \"2021-10-18\", \"activity_level\": 11, \"userid\": 1608}, {\"dt\": \"2021-10-18\", \"activity_level\": 12, \"userid\": 1559}, {\"dt\": \"2021-10-18\", \"activity_level\": 13, \"userid\": 1508}, {\"dt\": \"2021-10-18\", \"activity_level\": 14, \"userid\": 1515}, {\"dt\": \"2021-10-18\", \"activity_level\": 15, \"userid\": 1526}, {\"dt\": \"2021-10-18\", \"activity_level\": 16, \"userid\": 1536}, {\"dt\": \"2021-10-18\", \"activity_level\": 17, \"userid\": 1613}, {\"dt\": \"2021-10-18\", \"activity_level\": 18, \"userid\": 1626}, {\"dt\": \"2021-10-18\", \"activity_level\": 19, \"userid\": 1591}, {\"dt\": \"2021-10-18\", \"activity_level\": 20, \"userid\": 780}, {\"dt\": \"2021-10-19\", \"activity_level\": 1, \"userid\": 1620}, {\"dt\": \"2021-10-19\", \"activity_level\": 2, \"userid\": 1561}, {\"dt\": \"2021-10-19\", \"activity_level\": 3, \"userid\": 1579}, {\"dt\": \"2021-10-19\", \"activity_level\": 4, \"userid\": 1630}, {\"dt\": \"2021-10-19\", \"activity_level\": 5, \"userid\": 1571}, {\"dt\": \"2021-10-19\", \"activity_level\": 6, \"userid\": 1569}, {\"dt\": \"2021-10-19\", \"activity_level\": 7, \"userid\": 1515}, {\"dt\": \"2021-10-19\", \"activity_level\": 8, \"userid\": 1588}, {\"dt\": \"2021-10-19\", \"activity_level\": 9, \"userid\": 1547}, {\"dt\": \"2021-10-19\", \"activity_level\": 10, \"userid\": 1606}, {\"dt\": \"2021-10-19\", \"activity_level\": 11, \"userid\": 1594}, {\"dt\": \"2021-10-19\", \"activity_level\": 12, \"userid\": 1553}, {\"dt\": \"2021-10-19\", \"activity_level\": 13, \"userid\": 1509}, {\"dt\": \"2021-10-19\", \"activity_level\": 14, \"userid\": 1550}, {\"dt\": \"2021-10-19\", \"activity_level\": 15, \"userid\": 1564}, {\"dt\": \"2021-10-19\", \"activity_level\": 16, \"userid\": 1532}, {\"dt\": \"2021-10-19\", \"activity_level\": 17, \"userid\": 1541}, {\"dt\": \"2021-10-19\", \"activity_level\": 18, \"userid\": 1606}, {\"dt\": \"2021-10-19\", \"activity_level\": 19, \"userid\": 1532}, {\"dt\": \"2021-10-19\", \"activity_level\": 20, \"userid\": 820}, {\"dt\": \"2021-10-20\", \"activity_level\": 1, \"userid\": 1545}, {\"dt\": \"2021-10-20\", \"activity_level\": 2, \"userid\": 1650}, {\"dt\": \"2021-10-20\", \"activity_level\": 3, \"userid\": 1644}, {\"dt\": \"2021-10-20\", \"activity_level\": 4, \"userid\": 1572}, {\"dt\": \"2021-10-20\", \"activity_level\": 5, \"userid\": 1597}, {\"dt\": \"2021-10-20\", \"activity_level\": 6, \"userid\": 1570}, {\"dt\": \"2021-10-20\", \"activity_level\": 7, \"userid\": 1578}, {\"dt\": \"2021-10-20\", \"activity_level\": 8, \"userid\": 1482}, {\"dt\": \"2021-10-20\", \"activity_level\": 9, \"userid\": 1629}, {\"dt\": \"2021-10-20\", \"activity_level\": 10, \"userid\": 1531}, {\"dt\": \"2021-10-20\", \"activity_level\": 11, \"userid\": 1576}, {\"dt\": \"2021-10-20\", \"activity_level\": 12, \"userid\": 1615}, {\"dt\": \"2021-10-20\", \"activity_level\": 13, \"userid\": 1608}, {\"dt\": \"2021-10-20\", \"activity_level\": 14, \"userid\": 1535}, {\"dt\": \"2021-10-20\", \"activity_level\": 15, \"userid\": 1573}, {\"dt\": \"2021-10-20\", \"activity_level\": 16, \"userid\": 1577}, {\"dt\": \"2021-10-20\", \"activity_level\": 17, \"userid\": 1576}, {\"dt\": \"2021-10-20\", \"activity_level\": 18, \"userid\": 1596}, {\"dt\": \"2021-10-20\", \"activity_level\": 19, \"userid\": 1567}, {\"dt\": \"2021-10-20\", \"activity_level\": 20, \"userid\": 774}, {\"dt\": \"2021-10-21\", \"activity_level\": 1, \"userid\": 1564}, {\"dt\": \"2021-10-21\", \"activity_level\": 2, \"userid\": 1548}, {\"dt\": \"2021-10-21\", \"activity_level\": 3, \"userid\": 1588}, {\"dt\": \"2021-10-21\", \"activity_level\": 4, \"userid\": 1552}, {\"dt\": \"2021-10-21\", \"activity_level\": 5, \"userid\": 1510}, {\"dt\": \"2021-10-21\", \"activity_level\": 6, \"userid\": 1582}, {\"dt\": \"2021-10-21\", \"activity_level\": 7, \"userid\": 1530}, {\"dt\": \"2021-10-21\", \"activity_level\": 8, \"userid\": 1581}, {\"dt\": \"2021-10-21\", \"activity_level\": 9, \"userid\": 1599}, {\"dt\": \"2021-10-21\", \"activity_level\": 10, \"userid\": 1627}, {\"dt\": \"2021-10-21\", \"activity_level\": 11, \"userid\": 1659}, {\"dt\": \"2021-10-21\", \"activity_level\": 12, \"userid\": 1602}, {\"dt\": \"2021-10-21\", \"activity_level\": 13, \"userid\": 1569}, {\"dt\": \"2021-10-21\", \"activity_level\": 14, \"userid\": 1577}, {\"dt\": \"2021-10-21\", \"activity_level\": 15, \"userid\": 1605}, {\"dt\": \"2021-10-21\", \"activity_level\": 16, \"userid\": 1549}, {\"dt\": \"2021-10-21\", \"activity_level\": 17, \"userid\": 1552}, {\"dt\": \"2021-10-21\", \"activity_level\": 18, \"userid\": 1551}, {\"dt\": \"2021-10-21\", \"activity_level\": 19, \"userid\": 1585}, {\"dt\": \"2021-10-21\", \"activity_level\": 20, \"userid\": 775}, {\"dt\": \"2021-10-22\", \"activity_level\": 1, \"userid\": 1609}, {\"dt\": \"2021-10-22\", \"activity_level\": 2, \"userid\": 1523}, {\"dt\": \"2021-10-22\", \"activity_level\": 3, \"userid\": 1572}, {\"dt\": \"2021-10-22\", \"activity_level\": 4, \"userid\": 1526}, {\"dt\": \"2021-10-22\", \"activity_level\": 5, \"userid\": 1584}, {\"dt\": \"2021-10-22\", \"activity_level\": 6, \"userid\": 1532}, {\"dt\": \"2021-10-22\", \"activity_level\": 7, \"userid\": 1583}, {\"dt\": \"2021-10-22\", \"activity_level\": 8, \"userid\": 1559}, {\"dt\": \"2021-10-22\", \"activity_level\": 9, \"userid\": 1559}, {\"dt\": \"2021-10-22\", \"activity_level\": 10, \"userid\": 1572}, {\"dt\": \"2021-10-22\", \"activity_level\": 11, \"userid\": 1506}, {\"dt\": \"2021-10-22\", \"activity_level\": 12, \"userid\": 1519}, {\"dt\": \"2021-10-22\", \"activity_level\": 13, \"userid\": 1637}, {\"dt\": \"2021-10-22\", \"activity_level\": 14, \"userid\": 1549}, {\"dt\": \"2021-10-22\", \"activity_level\": 15, \"userid\": 1523}, {\"dt\": \"2021-10-22\", \"activity_level\": 16, \"userid\": 1601}, {\"dt\": \"2021-10-22\", \"activity_level\": 17, \"userid\": 1622}, {\"dt\": \"2021-10-22\", \"activity_level\": 18, \"userid\": 1567}, {\"dt\": \"2021-10-22\", \"activity_level\": 19, \"userid\": 1638}, {\"dt\": \"2021-10-22\", \"activity_level\": 20, \"userid\": 792}, {\"dt\": \"2021-10-23\", \"activity_level\": 1, \"userid\": 1567}, {\"dt\": \"2021-10-23\", \"activity_level\": 2, \"userid\": 1524}, {\"dt\": \"2021-10-23\", \"activity_level\": 3, \"userid\": 1572}, {\"dt\": \"2021-10-23\", \"activity_level\": 4, \"userid\": 1567}, {\"dt\": \"2021-10-23\", \"activity_level\": 5, \"userid\": 1560}, {\"dt\": \"2021-10-23\", \"activity_level\": 6, \"userid\": 1558}, {\"dt\": \"2021-10-23\", \"activity_level\": 7, \"userid\": 1552}, {\"dt\": \"2021-10-23\", \"activity_level\": 8, \"userid\": 1535}, {\"dt\": \"2021-10-23\", \"activity_level\": 9, \"userid\": 1617}, {\"dt\": \"2021-10-23\", \"activity_level\": 10, \"userid\": 1605}, {\"dt\": \"2021-10-23\", \"activity_level\": 11, \"userid\": 1526}, {\"dt\": \"2021-10-23\", \"activity_level\": 12, \"userid\": 1612}, {\"dt\": \"2021-10-23\", \"activity_level\": 13, \"userid\": 1544}, {\"dt\": \"2021-10-23\", \"activity_level\": 14, \"userid\": 1631}, {\"dt\": \"2021-10-23\", \"activity_level\": 15, \"userid\": 1561}, {\"dt\": \"2021-10-23\", \"activity_level\": 16, \"userid\": 1597}, {\"dt\": \"2021-10-23\", \"activity_level\": 17, \"userid\": 1562}, {\"dt\": \"2021-10-23\", \"activity_level\": 18, \"userid\": 1616}, {\"dt\": \"2021-10-23\", \"activity_level\": 19, \"userid\": 1548}, {\"dt\": \"2021-10-23\", \"activity_level\": 20, \"userid\": 791}, {\"dt\": \"2021-10-24\", \"activity_level\": 1, \"userid\": 1572}, {\"dt\": \"2021-10-24\", \"activity_level\": 2, \"userid\": 1632}, {\"dt\": \"2021-10-24\", \"activity_level\": 3, \"userid\": 1586}, {\"dt\": \"2021-10-24\", \"activity_level\": 4, \"userid\": 1524}, {\"dt\": \"2021-10-24\", \"activity_level\": 5, \"userid\": 1616}, {\"dt\": \"2021-10-24\", \"activity_level\": 6, \"userid\": 1519}, {\"dt\": \"2021-10-24\", \"activity_level\": 7, \"userid\": 1554}, {\"dt\": \"2021-10-24\", \"activity_level\": 8, \"userid\": 1562}, {\"dt\": \"2021-10-24\", \"activity_level\": 9, \"userid\": 1550}, {\"dt\": \"2021-10-24\", \"activity_level\": 10, \"userid\": 1559}, {\"dt\": \"2021-10-24\", \"activity_level\": 11, \"userid\": 1657}, {\"dt\": \"2021-10-24\", \"activity_level\": 12, \"userid\": 1638}, {\"dt\": \"2021-10-24\", \"activity_level\": 13, \"userid\": 1581}, {\"dt\": \"2021-10-24\", \"activity_level\": 14, \"userid\": 1576}, {\"dt\": \"2021-10-24\", \"activity_level\": 15, \"userid\": 1564}, {\"dt\": \"2021-10-24\", \"activity_level\": 16, \"userid\": 1651}, {\"dt\": \"2021-10-24\", \"activity_level\": 17, \"userid\": 1560}, {\"dt\": \"2021-10-24\", \"activity_level\": 18, \"userid\": 1564}, {\"dt\": \"2021-10-24\", \"activity_level\": 19, \"userid\": 1572}, {\"dt\": \"2021-10-24\", \"activity_level\": 20, \"userid\": 778}, {\"dt\": \"2021-10-25\", \"activity_level\": 1, \"userid\": 1544}, {\"dt\": \"2021-10-25\", \"activity_level\": 2, \"userid\": 1593}, {\"dt\": \"2021-10-25\", \"activity_level\": 3, \"userid\": 1601}, {\"dt\": \"2021-10-25\", \"activity_level\": 4, \"userid\": 1564}, {\"dt\": \"2021-10-25\", \"activity_level\": 5, \"userid\": 1520}, {\"dt\": \"2021-10-25\", \"activity_level\": 6, \"userid\": 1531}, {\"dt\": \"2021-10-25\", \"activity_level\": 7, \"userid\": 1506}, {\"dt\": \"2021-10-25\", \"activity_level\": 8, \"userid\": 1583}, {\"dt\": \"2021-10-25\", \"activity_level\": 9, \"userid\": 1540}, {\"dt\": \"2021-10-25\", \"activity_level\": 10, \"userid\": 1589}, {\"dt\": \"2021-10-25\", \"activity_level\": 11, \"userid\": 1537}, {\"dt\": \"2021-10-25\", \"activity_level\": 12, \"userid\": 1610}, {\"dt\": \"2021-10-25\", \"activity_level\": 13, \"userid\": 1561}, {\"dt\": \"2021-10-25\", \"activity_level\": 14, \"userid\": 1549}, {\"dt\": \"2021-10-25\", \"activity_level\": 15, \"userid\": 1527}, {\"dt\": \"2021-10-25\", \"activity_level\": 16, \"userid\": 1561}, {\"dt\": \"2021-10-25\", \"activity_level\": 17, \"userid\": 1625}, {\"dt\": \"2021-10-25\", \"activity_level\": 18, \"userid\": 1600}, {\"dt\": \"2021-10-25\", \"activity_level\": 19, \"userid\": 1629}, {\"dt\": \"2021-10-25\", \"activity_level\": 20, \"userid\": 846}, {\"dt\": \"2021-10-26\", \"activity_level\": 1, \"userid\": 1554}, {\"dt\": \"2021-10-26\", \"activity_level\": 2, \"userid\": 1644}, {\"dt\": \"2021-10-26\", \"activity_level\": 3, \"userid\": 1543}, {\"dt\": \"2021-10-26\", \"activity_level\": 4, \"userid\": 1523}, {\"dt\": \"2021-10-26\", \"activity_level\": 5, \"userid\": 1607}, {\"dt\": \"2021-10-26\", \"activity_level\": 6, \"userid\": 1615}, {\"dt\": \"2021-10-26\", \"activity_level\": 7, \"userid\": 1575}, {\"dt\": \"2021-10-26\", \"activity_level\": 8, \"userid\": 1588}, {\"dt\": \"2021-10-26\", \"activity_level\": 9, \"userid\": 1534}, {\"dt\": \"2021-10-26\", \"activity_level\": 10, \"userid\": 1545}, {\"dt\": \"2021-10-26\", \"activity_level\": 11, \"userid\": 1584}, {\"dt\": \"2021-10-26\", \"activity_level\": 12, \"userid\": 1520}, {\"dt\": \"2021-10-26\", \"activity_level\": 13, \"userid\": 1564}, {\"dt\": \"2021-10-26\", \"activity_level\": 14, \"userid\": 1563}, {\"dt\": \"2021-10-26\", \"activity_level\": 15, \"userid\": 1633}, {\"dt\": \"2021-10-26\", \"activity_level\": 16, \"userid\": 1603}, {\"dt\": \"2021-10-26\", \"activity_level\": 17, \"userid\": 1557}, {\"dt\": \"2021-10-26\", \"activity_level\": 18, \"userid\": 1592}, {\"dt\": \"2021-10-26\", \"activity_level\": 19, \"userid\": 1545}, {\"dt\": \"2021-10-26\", \"activity_level\": 20, \"userid\": 784}, {\"dt\": \"2021-10-27\", \"activity_level\": 1, \"userid\": 1560}, {\"dt\": \"2021-10-27\", \"activity_level\": 2, \"userid\": 1504}, {\"dt\": \"2021-10-27\", \"activity_level\": 3, \"userid\": 1561}, {\"dt\": \"2021-10-27\", \"activity_level\": 4, \"userid\": 1629}, {\"dt\": \"2021-10-27\", \"activity_level\": 5, \"userid\": 1588}, {\"dt\": \"2021-10-27\", \"activity_level\": 6, \"userid\": 1644}, {\"dt\": \"2021-10-27\", \"activity_level\": 7, \"userid\": 1527}, {\"dt\": \"2021-10-27\", \"activity_level\": 8, \"userid\": 1569}, {\"dt\": \"2021-10-27\", \"activity_level\": 9, \"userid\": 1452}, {\"dt\": \"2021-10-27\", \"activity_level\": 10, \"userid\": 1576}, {\"dt\": \"2021-10-27\", \"activity_level\": 11, \"userid\": 1628}, {\"dt\": \"2021-10-27\", \"activity_level\": 12, \"userid\": 1547}, {\"dt\": \"2021-10-27\", \"activity_level\": 13, \"userid\": 1532}, {\"dt\": \"2021-10-27\", \"activity_level\": 14, \"userid\": 1593}, {\"dt\": \"2021-10-27\", \"activity_level\": 15, \"userid\": 1513}, {\"dt\": \"2021-10-27\", \"activity_level\": 16, \"userid\": 1575}, {\"dt\": \"2021-10-27\", \"activity_level\": 17, \"userid\": 1652}, {\"dt\": \"2021-10-27\", \"activity_level\": 18, \"userid\": 1651}, {\"dt\": \"2021-10-27\", \"activity_level\": 19, \"userid\": 1550}, {\"dt\": \"2021-10-27\", \"activity_level\": 20, \"userid\": 810}, {\"dt\": \"2021-10-28\", \"activity_level\": 1, \"userid\": 1608}, {\"dt\": \"2021-10-28\", \"activity_level\": 2, \"userid\": 1635}, {\"dt\": \"2021-10-28\", \"activity_level\": 3, \"userid\": 1663}, {\"dt\": \"2021-10-28\", \"activity_level\": 4, \"userid\": 1558}, {\"dt\": \"2021-10-28\", \"activity_level\": 5, \"userid\": 1531}, {\"dt\": \"2021-10-28\", \"activity_level\": 6, \"userid\": 1626}, {\"dt\": \"2021-10-28\", \"activity_level\": 7, \"userid\": 1615}, {\"dt\": \"2021-10-28\", \"activity_level\": 8, \"userid\": 1607}, {\"dt\": \"2021-10-28\", \"activity_level\": 9, \"userid\": 1572}, {\"dt\": \"2021-10-28\", \"activity_level\": 10, \"userid\": 1563}, {\"dt\": \"2021-10-28\", \"activity_level\": 11, \"userid\": 1584}, {\"dt\": \"2021-10-28\", \"activity_level\": 12, \"userid\": 1518}, {\"dt\": \"2021-10-28\", \"activity_level\": 13, \"userid\": 1597}, {\"dt\": \"2021-10-28\", \"activity_level\": 14, \"userid\": 1540}, {\"dt\": \"2021-10-28\", \"activity_level\": 15, \"userid\": 1582}, {\"dt\": \"2021-10-28\", \"activity_level\": 16, \"userid\": 1593}, {\"dt\": \"2021-10-28\", \"activity_level\": 17, \"userid\": 1506}, {\"dt\": \"2021-10-28\", \"activity_level\": 18, \"userid\": 1506}, {\"dt\": \"2021-10-28\", \"activity_level\": 19, \"userid\": 1530}, {\"dt\": \"2021-10-28\", \"activity_level\": 20, \"userid\": 800}, {\"dt\": \"2021-10-29\", \"activity_level\": 1, \"userid\": 1547}, {\"dt\": \"2021-10-29\", \"activity_level\": 2, \"userid\": 1532}, {\"dt\": \"2021-10-29\", \"activity_level\": 3, \"userid\": 1545}, {\"dt\": \"2021-10-29\", \"activity_level\": 4, \"userid\": 1632}, {\"dt\": \"2021-10-29\", \"activity_level\": 5, \"userid\": 1552}, {\"dt\": \"2021-10-29\", \"activity_level\": 6, \"userid\": 1656}, {\"dt\": \"2021-10-29\", \"activity_level\": 7, \"userid\": 1531}, {\"dt\": \"2021-10-29\", \"activity_level\": 8, \"userid\": 1534}, {\"dt\": \"2021-10-29\", \"activity_level\": 9, \"userid\": 1599}, {\"dt\": \"2021-10-29\", \"activity_level\": 10, \"userid\": 1612}, {\"dt\": \"2021-10-29\", \"activity_level\": 11, \"userid\": 1610}, {\"dt\": \"2021-10-29\", \"activity_level\": 12, \"userid\": 1655}, {\"dt\": \"2021-10-29\", \"activity_level\": 13, \"userid\": 1542}, {\"dt\": \"2021-10-29\", \"activity_level\": 14, \"userid\": 1481}, {\"dt\": \"2021-10-29\", \"activity_level\": 15, \"userid\": 1623}, {\"dt\": \"2021-10-29\", \"activity_level\": 16, \"userid\": 1563}, {\"dt\": \"2021-10-29\", \"activity_level\": 17, \"userid\": 1525}, {\"dt\": \"2021-10-29\", \"activity_level\": 18, \"userid\": 1572}, {\"dt\": \"2021-10-29\", \"activity_level\": 19, \"userid\": 1628}, {\"dt\": \"2021-10-29\", \"activity_level\": 20, \"userid\": 784}, {\"dt\": \"2021-10-30\", \"activity_level\": 1, \"userid\": 1588}, {\"dt\": \"2021-10-30\", \"activity_level\": 2, \"userid\": 1562}, {\"dt\": \"2021-10-30\", \"activity_level\": 3, \"userid\": 1560}, {\"dt\": \"2021-10-30\", \"activity_level\": 4, \"userid\": 1585}, {\"dt\": \"2021-10-30\", \"activity_level\": 5, \"userid\": 1592}, {\"dt\": \"2021-10-30\", \"activity_level\": 6, \"userid\": 1558}, {\"dt\": \"2021-10-30\", \"activity_level\": 7, \"userid\": 1581}, {\"dt\": \"2021-10-30\", \"activity_level\": 8, \"userid\": 1550}, {\"dt\": \"2021-10-30\", \"activity_level\": 9, \"userid\": 1568}, {\"dt\": \"2021-10-30\", \"activity_level\": 10, \"userid\": 1616}, {\"dt\": \"2021-10-30\", \"activity_level\": 11, \"userid\": 1570}, {\"dt\": \"2021-10-30\", \"activity_level\": 12, \"userid\": 1570}, {\"dt\": \"2021-10-30\", \"activity_level\": 13, \"userid\": 1595}, {\"dt\": \"2021-10-30\", \"activity_level\": 14, \"userid\": 1531}, {\"dt\": \"2021-10-30\", \"activity_level\": 15, \"userid\": 1600}, {\"dt\": \"2021-10-30\", \"activity_level\": 16, \"userid\": 1565}, {\"dt\": \"2021-10-30\", \"activity_level\": 17, \"userid\": 1501}, {\"dt\": \"2021-10-30\", \"activity_level\": 18, \"userid\": 1555}, {\"dt\": \"2021-10-30\", \"activity_level\": 19, \"userid\": 1601}, {\"dt\": \"2021-10-30\", \"activity_level\": 20, \"userid\": 780}, {\"dt\": \"2021-10-31\", \"activity_level\": 1, \"userid\": 1566}, {\"dt\": \"2021-10-31\", \"activity_level\": 2, \"userid\": 1585}, {\"dt\": \"2021-10-31\", \"activity_level\": 3, \"userid\": 1521}, {\"dt\": \"2021-10-31\", \"activity_level\": 4, \"userid\": 1538}, {\"dt\": \"2021-10-31\", \"activity_level\": 5, \"userid\": 1612}, {\"dt\": \"2021-10-31\", \"activity_level\": 6, \"userid\": 1595}, {\"dt\": \"2021-10-31\", \"activity_level\": 7, \"userid\": 1481}, {\"dt\": \"2021-10-31\", \"activity_level\": 8, \"userid\": 1508}, {\"dt\": \"2021-10-31\", \"activity_level\": 9, \"userid\": 1600}, {\"dt\": \"2021-10-31\", \"activity_level\": 10, \"userid\": 1646}, {\"dt\": \"2021-10-31\", \"activity_level\": 11, \"userid\": 1456}, {\"dt\": \"2021-10-31\", \"activity_level\": 12, \"userid\": 1653}, {\"dt\": \"2021-10-31\", \"activity_level\": 13, \"userid\": 1602}, {\"dt\": \"2021-10-31\", \"activity_level\": 14, \"userid\": 1630}, {\"dt\": \"2021-10-31\", \"activity_level\": 15, \"userid\": 1563}, {\"dt\": \"2021-10-31\", \"activity_level\": 16, \"userid\": 1499}, {\"dt\": \"2021-10-31\", \"activity_level\": 17, \"userid\": 1534}, {\"dt\": \"2021-10-31\", \"activity_level\": 18, \"userid\": 1531}, {\"dt\": \"2021-10-31\", \"activity_level\": 19, \"userid\": 1616}, {\"dt\": \"2021-10-31\", \"activity_level\": 20, \"userid\": 783}]}}, {\"mode\": \"vega-lite\"});\n",
       "</script>"
      ],
      "text/plain": [
       "alt.Chart(...)"
      ]
     },
     "execution_count": 24,
     "metadata": {},
     "output_type": "execute_result"
    }
   ],
   "source": [
    "## let's visualize this :) \n",
    "\n",
    "alt.Chart(activity).mark_line(size=1).encode(\n",
    "    alt.X('dt:T', axis=alt.Axis(title = 'date')),\n",
    "    alt.Y('userid:Q', axis=alt.Axis(title = 'number of users')),\n",
    "    tooltip=['activity_level'], \n",
    "    color='activity_level:N'\n",
    ").properties(\n",
    "    width=600,\n",
    "    height=400, \n",
    "    title=\"Activity level\"\n",
    ")"
   ]
  },
  {
   "cell_type": "markdown",
   "metadata": {},
   "source": [
    "### 2. Daily active users ( DAU ) \n",
    "\n",
    "In this dataset, a userid will count towards DAU if their activity_level for that day is not zero."
   ]
  },
  {
   "cell_type": "code",
   "execution_count": 20,
   "metadata": {},
   "outputs": [
    {
     "data": {
      "text/html": [
       "\n",
       "<style>\n",
       "  #altair-viz-382c821932354669966e70ce2ae961c8.vega-embed {\n",
       "    width: 100%;\n",
       "    display: flex;\n",
       "  }\n",
       "\n",
       "  #altair-viz-382c821932354669966e70ce2ae961c8.vega-embed details,\n",
       "  #altair-viz-382c821932354669966e70ce2ae961c8.vega-embed details summary {\n",
       "    position: relative;\n",
       "  }\n",
       "</style>\n",
       "<div id=\"altair-viz-382c821932354669966e70ce2ae961c8\"></div>\n",
       "<script type=\"text/javascript\">\n",
       "  var VEGA_DEBUG = (typeof VEGA_DEBUG == \"undefined\") ? {} : VEGA_DEBUG;\n",
       "  (function(spec, embedOpt){\n",
       "    let outputDiv = document.currentScript.previousElementSibling;\n",
       "    if (outputDiv.id !== \"altair-viz-382c821932354669966e70ce2ae961c8\") {\n",
       "      outputDiv = document.getElementById(\"altair-viz-382c821932354669966e70ce2ae961c8\");\n",
       "    }\n",
       "    const paths = {\n",
       "      \"vega\": \"https://cdn.jsdelivr.net/npm/vega@5?noext\",\n",
       "      \"vega-lib\": \"https://cdn.jsdelivr.net/npm/vega-lib?noext\",\n",
       "      \"vega-lite\": \"https://cdn.jsdelivr.net/npm/vega-lite@5.16.3?noext\",\n",
       "      \"vega-embed\": \"https://cdn.jsdelivr.net/npm/vega-embed@6?noext\",\n",
       "    };\n",
       "\n",
       "    function maybeLoadScript(lib, version) {\n",
       "      var key = `${lib.replace(\"-\", \"\")}_version`;\n",
       "      return (VEGA_DEBUG[key] == version) ?\n",
       "        Promise.resolve(paths[lib]) :\n",
       "        new Promise(function(resolve, reject) {\n",
       "          var s = document.createElement('script');\n",
       "          document.getElementsByTagName(\"head\")[0].appendChild(s);\n",
       "          s.async = true;\n",
       "          s.onload = () => {\n",
       "            VEGA_DEBUG[key] = version;\n",
       "            return resolve(paths[lib]);\n",
       "          };\n",
       "          s.onerror = () => reject(`Error loading script: ${paths[lib]}`);\n",
       "          s.src = paths[lib];\n",
       "        });\n",
       "    }\n",
       "\n",
       "    function showError(err) {\n",
       "      outputDiv.innerHTML = `<div class=\"error\" style=\"color:red;\">${err}</div>`;\n",
       "      throw err;\n",
       "    }\n",
       "\n",
       "    function displayChart(vegaEmbed) {\n",
       "      vegaEmbed(outputDiv, spec, embedOpt)\n",
       "        .catch(err => showError(`Javascript Error: ${err.message}<br>This usually means there's a typo in your chart specification. See the javascript console for the full traceback.`));\n",
       "    }\n",
       "\n",
       "    if(typeof define === \"function\" && define.amd) {\n",
       "      requirejs.config({paths});\n",
       "      require([\"vega-embed\"], displayChart, err => showError(`Error loading script: ${err.message}`));\n",
       "    } else {\n",
       "      maybeLoadScript(\"vega\", \"5\")\n",
       "        .then(() => maybeLoadScript(\"vega-lite\", \"5.16.3\"))\n",
       "        .then(() => maybeLoadScript(\"vega-embed\", \"6\"))\n",
       "        .catch(showError)\n",
       "        .then(() => displayChart(vegaEmbed));\n",
       "    }\n",
       "  })({\"config\": {\"view\": {\"continuousWidth\": 300, \"continuousHeight\": 300}}, \"data\": {\"name\": \"data-72fa7eaea915d722c2b264439d74a8e3\"}, \"mark\": {\"type\": \"line\", \"size\": 4}, \"encoding\": {\"x\": {\"axis\": {\"title\": \"date\"}, \"field\": \"dt\", \"type\": \"temporal\"}, \"y\": {\"axis\": {\"title\": \"number of users\"}, \"field\": \"userid\", \"type\": \"quantitative\"}}, \"height\": 400, \"title\": \"Daily Active Users\", \"width\": 600, \"$schema\": \"https://vega.github.io/schema/vega-lite/v5.16.3.json\", \"datasets\": {\"data-72fa7eaea915d722c2b264439d74a8e3\": [{\"dt\": \"2021-10-01\", \"userid\": 30634, \"activity_level\": 30634}, {\"dt\": \"2021-10-02\", \"userid\": 30775, \"activity_level\": 30775}, {\"dt\": \"2021-10-03\", \"userid\": 30785, \"activity_level\": 30785}, {\"dt\": \"2021-10-04\", \"userid\": 30599, \"activity_level\": 30599}, {\"dt\": \"2021-10-05\", \"userid\": 30588, \"activity_level\": 30588}, {\"dt\": \"2021-10-06\", \"userid\": 30639, \"activity_level\": 30639}, {\"dt\": \"2021-10-07\", \"userid\": 30637, \"activity_level\": 30637}, {\"dt\": \"2021-10-08\", \"userid\": 30600, \"activity_level\": 30600}, {\"dt\": \"2021-10-09\", \"userid\": 30902, \"activity_level\": 30902}, {\"dt\": \"2021-10-10\", \"userid\": 30581, \"activity_level\": 30581}, {\"dt\": \"2021-10-11\", \"userid\": 30489, \"activity_level\": 30489}, {\"dt\": \"2021-10-12\", \"userid\": 30715, \"activity_level\": 30715}, {\"dt\": \"2021-10-13\", \"userid\": 30761, \"activity_level\": 30761}, {\"dt\": \"2021-10-14\", \"userid\": 30716, \"activity_level\": 30716}, {\"dt\": \"2021-10-15\", \"userid\": 30637, \"activity_level\": 30637}, {\"dt\": \"2021-10-16\", \"userid\": 30708, \"activity_level\": 30708}, {\"dt\": \"2021-10-17\", \"userid\": 30741, \"activity_level\": 30741}, {\"dt\": \"2021-10-18\", \"userid\": 30694, \"activity_level\": 30694}, {\"dt\": \"2021-10-19\", \"userid\": 30587, \"activity_level\": 30587}, {\"dt\": \"2021-10-20\", \"userid\": 30795, \"activity_level\": 30795}, {\"dt\": \"2021-10-21\", \"userid\": 30705, \"activity_level\": 30705}, {\"dt\": \"2021-10-22\", \"userid\": 30573, \"activity_level\": 30573}, {\"dt\": \"2021-10-23\", \"userid\": 30645, \"activity_level\": 30645}, {\"dt\": \"2021-10-24\", \"userid\": 30815, \"activity_level\": 30815}, {\"dt\": \"2021-10-25\", \"userid\": 30616, \"activity_level\": 30616}, {\"dt\": \"2021-10-26\", \"userid\": 30673, \"activity_level\": 30673}, {\"dt\": \"2021-10-27\", \"userid\": 30661, \"activity_level\": 30661}, {\"dt\": \"2021-10-28\", \"userid\": 30734, \"activity_level\": 30734}, {\"dt\": \"2021-10-29\", \"userid\": 30723, \"activity_level\": 30723}, {\"dt\": \"2021-10-30\", \"userid\": 30628, \"activity_level\": 30628}, {\"dt\": \"2021-10-31\", \"userid\": 30519, \"activity_level\": 30519}]}}, {\"mode\": \"vega-lite\"});\n",
       "</script>"
      ],
      "text/plain": [
       "alt.Chart(...)"
      ]
     },
     "execution_count": 20,
     "metadata": {},
     "output_type": "execute_result"
    }
   ],
   "source": [
    "activity = data.query('activity_level > 0').groupby(['dt']).count().reset_index()\n",
    "\n",
    "## let's visualize this :) \n",
    "alt.Chart(activity).mark_line(size=4).encode(\n",
    "    alt.X('dt:T', axis=alt.Axis(title = 'date')),\n",
    "    alt.Y('userid:Q', axis=alt.Axis(title = 'number of users'))\n",
    ").properties(\n",
    "    width=600,\n",
    "    height=400, \n",
    "    title='Daily Active Users'\n",
    ")"
   ]
  },
  {
   "cell_type": "markdown",
   "metadata": {},
   "source": [
    "### 3. Click Through Rate ( CTR )"
   ]
  },
  {
   "cell_type": "code",
   "execution_count": 38,
   "metadata": {},
   "outputs": [
    {
     "data": {
      "text/html": [
       "<div>\n",
       "<style scoped>\n",
       "    .dataframe tbody tr th:only-of-type {\n",
       "        vertical-align: middle;\n",
       "    }\n",
       "\n",
       "    .dataframe tbody tr th {\n",
       "        vertical-align: top;\n",
       "    }\n",
       "\n",
       "    .dataframe thead th {\n",
       "        text-align: right;\n",
       "    }\n",
       "</style>\n",
       "<table border=\"1\" class=\"dataframe\">\n",
       "  <thead>\n",
       "    <tr style=\"text-align: right;\">\n",
       "      <th></th>\n",
       "      <th>userid</th>\n",
       "      <th>dt</th>\n",
       "      <th>ctr</th>\n",
       "    </tr>\n",
       "  </thead>\n",
       "  <tbody>\n",
       "    <tr>\n",
       "      <th>0</th>\n",
       "      <td>4b328144-df4b-47b1-a804-09834942dce0</td>\n",
       "      <td>2021-10-01</td>\n",
       "      <td>34.28</td>\n",
       "    </tr>\n",
       "    <tr>\n",
       "      <th>1</th>\n",
       "      <td>34ace777-5e9d-40b3-a859-4145d0c35c8d</td>\n",
       "      <td>2021-10-01</td>\n",
       "      <td>34.67</td>\n",
       "    </tr>\n",
       "    <tr>\n",
       "      <th>2</th>\n",
       "      <td>8028cccf-19c3-4c0e-b5b2-e707e15d2d83</td>\n",
       "      <td>2021-10-01</td>\n",
       "      <td>34.77</td>\n",
       "    </tr>\n",
       "    <tr>\n",
       "      <th>3</th>\n",
       "      <td>652b3c9c-5e29-4bf0-9373-924687b1567e</td>\n",
       "      <td>2021-10-01</td>\n",
       "      <td>35.42</td>\n",
       "    </tr>\n",
       "    <tr>\n",
       "      <th>4</th>\n",
       "      <td>45b57434-4666-4b57-9798-35489dc1092a</td>\n",
       "      <td>2021-10-01</td>\n",
       "      <td>35.04</td>\n",
       "    </tr>\n",
       "  </tbody>\n",
       "</table>\n",
       "</div>"
      ],
      "text/plain": [
       "                                 userid          dt    ctr\n",
       "0  4b328144-df4b-47b1-a804-09834942dce0  2021-10-01  34.28\n",
       "1  34ace777-5e9d-40b3-a859-4145d0c35c8d  2021-10-01  34.67\n",
       "2  8028cccf-19c3-4c0e-b5b2-e707e15d2d83  2021-10-01  34.77\n",
       "3  652b3c9c-5e29-4bf0-9373-924687b1567e  2021-10-01  35.42\n",
       "4  45b57434-4666-4b57-9798-35489dc1092a  2021-10-01  35.04"
      ]
     },
     "execution_count": 38,
     "metadata": {},
     "output_type": "execute_result"
    }
   ],
   "source": [
    "data = pd.read_csv(\"/workspaces/Learn_AB_Testing/ab-testing-in-python/Course notes/Ctr_pretest.csv\")\n",
    "data.head()"
   ]
  },
  {
   "cell_type": "markdown",
   "metadata": {},
   "source": [
    "**CTR** -> It means that the user has seen a certain number of ads a day and clicked on some percentage. Example on 01-10-2021, 34% of the people clicked the ads :) "
   ]
  },
  {
   "cell_type": "code",
   "execution_count": 39,
   "metadata": {},
   "outputs": [
    {
     "data": {
      "text/html": [
       "<div>\n",
       "<style scoped>\n",
       "    .dataframe tbody tr th:only-of-type {\n",
       "        vertical-align: middle;\n",
       "    }\n",
       "\n",
       "    .dataframe tbody tr th {\n",
       "        vertical-align: top;\n",
       "    }\n",
       "\n",
       "    .dataframe thead th {\n",
       "        text-align: right;\n",
       "    }\n",
       "</style>\n",
       "<table border=\"1\" class=\"dataframe\">\n",
       "  <thead>\n",
       "    <tr style=\"text-align: right;\">\n",
       "      <th></th>\n",
       "      <th>ctr</th>\n",
       "    </tr>\n",
       "  </thead>\n",
       "  <tbody>\n",
       "    <tr>\n",
       "      <th>count</th>\n",
       "      <td>950875.000000</td>\n",
       "    </tr>\n",
       "    <tr>\n",
       "      <th>mean</th>\n",
       "      <td>33.000242</td>\n",
       "    </tr>\n",
       "    <tr>\n",
       "      <th>std</th>\n",
       "      <td>1.731677</td>\n",
       "    </tr>\n",
       "    <tr>\n",
       "      <th>min</th>\n",
       "      <td>30.000000</td>\n",
       "    </tr>\n",
       "    <tr>\n",
       "      <th>25%</th>\n",
       "      <td>31.500000</td>\n",
       "    </tr>\n",
       "    <tr>\n",
       "      <th>50%</th>\n",
       "      <td>33.000000</td>\n",
       "    </tr>\n",
       "    <tr>\n",
       "      <th>75%</th>\n",
       "      <td>34.500000</td>\n",
       "    </tr>\n",
       "    <tr>\n",
       "      <th>max</th>\n",
       "      <td>36.000000</td>\n",
       "    </tr>\n",
       "  </tbody>\n",
       "</table>\n",
       "</div>"
      ],
      "text/plain": [
       "                 ctr\n",
       "count  950875.000000\n",
       "mean       33.000242\n",
       "std         1.731677\n",
       "min        30.000000\n",
       "25%        31.500000\n",
       "50%        33.000000\n",
       "75%        34.500000\n",
       "max        36.000000"
      ]
     },
     "execution_count": 39,
     "metadata": {},
     "output_type": "execute_result"
    }
   ],
   "source": [
    "data.describe()"
   ]
  },
  {
   "cell_type": "code",
   "execution_count": 40,
   "metadata": {},
   "outputs": [
    {
     "name": "stdout",
     "output_type": "stream",
     "text": [
      "<class 'pandas.core.frame.DataFrame'>\n",
      "RangeIndex: 950875 entries, 0 to 950874\n",
      "Data columns (total 3 columns):\n",
      " #   Column  Non-Null Count   Dtype  \n",
      "---  ------  --------------   -----  \n",
      " 0   userid  950875 non-null  object \n",
      " 1   dt      950875 non-null  object \n",
      " 2   ctr     950875 non-null  float64\n",
      "dtypes: float64(1), object(2)\n",
      "memory usage: 21.8+ MB\n"
     ]
    }
   ],
   "source": [
    "data.info()"
   ]
  },
  {
   "cell_type": "code",
   "execution_count": 45,
   "metadata": {},
   "outputs": [
    {
     "data": {
      "text/html": [
       "\n",
       "<style>\n",
       "  #altair-viz-39ce2d5825f244a2b526997d16e95a1c.vega-embed {\n",
       "    width: 100%;\n",
       "    display: flex;\n",
       "  }\n",
       "\n",
       "  #altair-viz-39ce2d5825f244a2b526997d16e95a1c.vega-embed details,\n",
       "  #altair-viz-39ce2d5825f244a2b526997d16e95a1c.vega-embed details summary {\n",
       "    position: relative;\n",
       "  }\n",
       "</style>\n",
       "<div id=\"altair-viz-39ce2d5825f244a2b526997d16e95a1c\"></div>\n",
       "<script type=\"text/javascript\">\n",
       "  var VEGA_DEBUG = (typeof VEGA_DEBUG == \"undefined\") ? {} : VEGA_DEBUG;\n",
       "  (function(spec, embedOpt){\n",
       "    let outputDiv = document.currentScript.previousElementSibling;\n",
       "    if (outputDiv.id !== \"altair-viz-39ce2d5825f244a2b526997d16e95a1c\") {\n",
       "      outputDiv = document.getElementById(\"altair-viz-39ce2d5825f244a2b526997d16e95a1c\");\n",
       "    }\n",
       "    const paths = {\n",
       "      \"vega\": \"https://cdn.jsdelivr.net/npm/vega@5?noext\",\n",
       "      \"vega-lib\": \"https://cdn.jsdelivr.net/npm/vega-lib?noext\",\n",
       "      \"vega-lite\": \"https://cdn.jsdelivr.net/npm/vega-lite@5.16.3?noext\",\n",
       "      \"vega-embed\": \"https://cdn.jsdelivr.net/npm/vega-embed@6?noext\",\n",
       "    };\n",
       "\n",
       "    function maybeLoadScript(lib, version) {\n",
       "      var key = `${lib.replace(\"-\", \"\")}_version`;\n",
       "      return (VEGA_DEBUG[key] == version) ?\n",
       "        Promise.resolve(paths[lib]) :\n",
       "        new Promise(function(resolve, reject) {\n",
       "          var s = document.createElement('script');\n",
       "          document.getElementsByTagName(\"head\")[0].appendChild(s);\n",
       "          s.async = true;\n",
       "          s.onload = () => {\n",
       "            VEGA_DEBUG[key] = version;\n",
       "            return resolve(paths[lib]);\n",
       "          };\n",
       "          s.onerror = () => reject(`Error loading script: ${paths[lib]}`);\n",
       "          s.src = paths[lib];\n",
       "        });\n",
       "    }\n",
       "\n",
       "    function showError(err) {\n",
       "      outputDiv.innerHTML = `<div class=\"error\" style=\"color:red;\">${err}</div>`;\n",
       "      throw err;\n",
       "    }\n",
       "\n",
       "    function displayChart(vegaEmbed) {\n",
       "      vegaEmbed(outputDiv, spec, embedOpt)\n",
       "        .catch(err => showError(`Javascript Error: ${err.message}<br>This usually means there's a typo in your chart specification. See the javascript console for the full traceback.`));\n",
       "    }\n",
       "\n",
       "    if(typeof define === \"function\" && define.amd) {\n",
       "      requirejs.config({paths});\n",
       "      require([\"vega-embed\"], displayChart, err => showError(`Error loading script: ${err.message}`));\n",
       "    } else {\n",
       "      maybeLoadScript(\"vega\", \"5\")\n",
       "        .then(() => maybeLoadScript(\"vega-lite\", \"5.16.3\"))\n",
       "        .then(() => maybeLoadScript(\"vega-embed\", \"6\"))\n",
       "        .catch(showError)\n",
       "        .then(() => displayChart(vegaEmbed));\n",
       "    }\n",
       "  })({\"config\": {\"view\": {\"continuousWidth\": 300, \"continuousHeight\": 300}}, \"data\": {\"name\": \"data-51dd1defcb5318f7b186d9860ba24846\"}, \"mark\": {\"type\": \"line\", \"size\": 4}, \"encoding\": {\"tooltip\": [{\"field\": \"ctr\", \"type\": \"quantitative\"}], \"x\": {\"axis\": {\"title\": \"date\"}, \"field\": \"dt\", \"type\": \"temporal\"}, \"y\": {\"axis\": {\"title\": \"ctr\"}, \"field\": \"ctr\", \"scale\": {\"domain\": [32, 34]}, \"type\": \"quantitative\"}}, \"height\": 400, \"title\": \"Average Daily CTR\", \"width\": 600, \"$schema\": \"https://vega.github.io/schema/vega-lite/v5.16.3.json\", \"datasets\": {\"data-51dd1defcb5318f7b186d9860ba24846\": [{\"dt\": \"2021-10-01\", \"ctr\": 32.993445844486516}, {\"dt\": \"2021-10-02\", \"ctr\": 32.99166433793663}, {\"dt\": \"2021-10-03\", \"ctr\": 32.99508624330031}, {\"dt\": \"2021-10-04\", \"ctr\": 32.992994542305304}, {\"dt\": \"2021-10-05\", \"ctr\": 33.00437524519419}, {\"dt\": \"2021-10-06\", \"ctr\": 33.018563921799014}, {\"dt\": \"2021-10-07\", \"ctr\": 32.98849985311878}, {\"dt\": \"2021-10-08\", \"ctr\": 32.99865359477124}, {\"dt\": \"2021-10-09\", \"ctr\": 33.00508154811986}, {\"dt\": \"2021-10-10\", \"ctr\": 33.00713449527485}, {\"dt\": \"2021-10-11\", \"ctr\": 32.9903004362229}, {\"dt\": \"2021-10-12\", \"ctr\": 32.996166368223996}, {\"dt\": \"2021-10-13\", \"ctr\": 32.98424823640324}, {\"dt\": \"2021-10-14\", \"ctr\": 32.99987791379086}, {\"dt\": \"2021-10-15\", \"ctr\": 33.00851747886542}, {\"dt\": \"2021-10-16\", \"ctr\": 32.9910254656767}, {\"dt\": \"2021-10-17\", \"ctr\": 33.00191861032497}, {\"dt\": \"2021-10-18\", \"ctr\": 33.007763406528966}, {\"dt\": \"2021-10-19\", \"ctr\": 33.00151077255043}, {\"dt\": \"2021-10-20\", \"ctr\": 33.0046322454944}, {\"dt\": \"2021-10-21\", \"ctr\": 32.99756586875102}, {\"dt\": \"2021-10-22\", \"ctr\": 33.00678507179538}, {\"dt\": \"2021-10-23\", \"ctr\": 33.012228095937346}, {\"dt\": \"2021-10-24\", \"ctr\": 32.984093136459514}, {\"dt\": \"2021-10-25\", \"ctr\": 32.99022275934152}, {\"dt\": \"2021-10-26\", \"ctr\": 33.014248035731754}, {\"dt\": \"2021-10-27\", \"ctr\": 33.00704510616092}, {\"dt\": \"2021-10-28\", \"ctr\": 33.00571061365263}, {\"dt\": \"2021-10-29\", \"ctr\": 33.004230055658624}, {\"dt\": \"2021-10-30\", \"ctr\": 33.01643006399373}, {\"dt\": \"2021-10-31\", \"ctr\": 32.98751499066155}]}}, {\"mode\": \"vega-lite\"});\n",
       "</script>"
      ],
      "text/plain": [
       "alt.Chart(...)"
      ]
     },
     "execution_count": 45,
     "metadata": {},
     "output_type": "execute_result"
    }
   ],
   "source": [
    "ctr = data.groupby(['dt']).mean(numeric_only = True).reset_index()\n",
    "\n",
    "alt.Chart(ctr).mark_line(size=4).encode(\n",
    "    alt.X('dt:T', axis=alt.Axis(title = 'date')),\n",
    "    alt.Y('ctr:Q', axis=alt.Axis(title = 'ctr'), scale=alt.Scale(domain=[32, 34])),\n",
    "    tooltip=['ctr'], \n",
    ").properties(\n",
    "    width=600,\n",
    "    height=400, \n",
    "    title='Average Daily CTR'\n",
    ")"
   ]
  },
  {
   "cell_type": "code",
   "execution_count": null,
   "metadata": {},
   "outputs": [],
   "source": []
  }
 ],
 "metadata": {
  "kernelspec": {
   "display_name": "Python 3",
   "language": "python",
   "name": "python3"
  },
  "language_info": {
   "codemirror_mode": {
    "name": "ipython",
    "version": 3
   },
   "file_extension": ".py",
   "mimetype": "text/x-python",
   "name": "python",
   "nbconvert_exporter": "python",
   "pygments_lexer": "ipython3",
   "version": "3.10.13"
  }
 },
 "nbformat": 4,
 "nbformat_minor": 2
}
